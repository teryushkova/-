{
 "cells": [
  {
   "cell_type": "markdown",
   "metadata": {},
   "source": [
    "# Лабораторная работа №3\n",
    "## Выполнила студентка группы БСТ1903 Терюшкова К.С.\n",
    "# Задание 1"
   ]
  },
  {
   "cell_type": "markdown",
   "metadata": {},
   "source": [
    "# Алгоритм Бойера-Мура"
   ]
  },
  {
   "cell_type": "code",
   "execution_count": 60,
   "metadata": {},
   "outputs": [
    {
     "name": "stdout",
     "output_type": "stream",
     "text": [
      "{'a': 1, 'g': 2, 'i': 3, 'l': 4, 'o': 5, 'H': 7, 'n': 8, '*': 8}\n",
      "образ найден по индексу 23\n"
     ]
    }
   ],
   "source": [
    "t = \"Hooligan\"\n",
    "\n",
    "# Этап 1: формирование таблицы смещений\n",
    "\n",
    "S = set()  # уникальные символы в образе\n",
    "M = len(t) # число символов в образе\n",
    "d = {}     # словарь смещений\n",
    "\n",
    "for i in range(M-2, -1, -1): # итерации с предпоследнего символа\n",
    "    if t[i] not in S:        # если символ еще не добавлен в таблицу\n",
    "        d[t[i]] = M-i-1\n",
    "        S.add(t[i])\n",
    "\n",
    "if t[M-1] not in S:     # отдельно формируем последний символ\n",
    "    d[t[M-1]] = M\n",
    "\n",
    "d['*'] = M              # смещения для прочих символов\n",
    "\n",
    "print(d)\n",
    "\n",
    "# Этап 2: поиск образа в строке\n",
    "\n",
    "a = \"Hoola-Hoola girls like Hooligans\"\n",
    "N = len(a)\n",
    "\n",
    "if N >= M:\n",
    "    i = M-1       # счетчик проверяемого символа в строке\n",
    "\n",
    "    while(i < N):\n",
    "        k = 0\n",
    "        j = 0\n",
    "        flBreak = False\n",
    "        for j in range(M-1, -1, -1):\n",
    "            if a[i-k] != t[j]:\n",
    "                if j == M-1:\n",
    "                    off = d[a[i]] if d.get(a[i], False) else d['*']  # смещение, если не равен последний символ образа\n",
    "                else:\n",
    "                    off = d[t[j]]   # смещение, если не равен не последний символ образа\n",
    "\n",
    "                i += off    # смещение счетчика строки\n",
    "                flBreak = True  # если несовпадение символа, то flBreak = True\n",
    "                break\n",
    "\n",
    "            k += 1          # смещение для сравниваемого символа в строке\n",
    "\n",
    "        if not flBreak:          # если дошли до начала образа, значит, все его символы совпали\n",
    "            print(f\"образ найден по индексу {i-k+1}\")\n",
    "            break\n",
    "    else:\n",
    "        print(\"образ не найден\")\n",
    "else:\n",
    "    print(\"образ не найден\")"
   ]
  },
  {
   "cell_type": "markdown",
   "metadata": {},
   "source": [
    "# Алгоритм Кнута-Морриса-Пратта"
   ]
  },
  {
   "cell_type": "code",
   "execution_count": 115,
   "metadata": {},
   "outputs": [],
   "source": [
    "import numpy as np\n",
    "class KMP:\n",
    "     def __init__(self,w,s):\n",
    "         self.w = list(w)\n",
    "         self.s = list(s)\n",
    "     ## Построение таблицы\n",
    "     def kmp_table(self):\n",
    "        pos=1 ## pos это переменная, которая будет один раз проходитьчерез символы слова\n",
    "        c=0 ## c это переменная, которая будет определять значение T[j] путем сравнения префикса и суффикса внутри слова\n",
    "          \n",
    "       \n",
    "        T=np.zeros(len(self.w)) ##T[0]=0 всегда\n",
    "        \n",
    "        while pos<len(self.w):\n",
    "         if self.w[c]==self.w[pos]: ##если находится совпадение, c+1\n",
    "          c+=1\n",
    "          T[pos]=c\n",
    "            \n",
    "         elif c!=0 and self.w[0]==self.w[pos] :\n",
    "          \n",
    "          c=1       ## если возникает несоответствие между суффиксом и префиксом, то \n",
    "          T[pos]=c  ## поиск нового суффикса начинается с несовпадающей позиции\n",
    "         else:\n",
    "                \n",
    "          c=0    ## устанавлоиваем c=0 указывающую на новый поиск, начинающийся соследующей позиции, сразу после несоответствия\n",
    "        \n",
    "         pos+=1\n",
    "        \n",
    "        return T\n",
    "    \n",
    "    \n",
    "     def kmp_search(self,T):\n",
    "         j=0\n",
    "         pos=[]\n",
    "            \n",
    "         for i in np.arange(0,len(self.s)):\n",
    "            \n",
    "        ## если полсле одного или нескольких совпадений было обнаружено несоответствие,\n",
    "        ## то обращаемся к таблице, которая дает подходящий префикс для суффикса, которого достигли \n",
    "        ## до того как возникло несоответствие\n",
    "           while j>0 and self.s[i] != self.w[j]: \n",
    "              \n",
    "            j=int(T[j-1]) ## если сохраняется несоответствие, таблица в конце будет указывать\n",
    "                          ## начать сначала  w.\n",
    "           \n",
    "           if self.w[j]==self.s[i]: ##если совпадение происходит, подолжаеи проходить через w увеличивая j\n",
    "            j+=1\n",
    "           \n",
    "           if j==len(self.w): ## если j равен размеру слова, то один w находится в s\n",
    "            pos.append(i-len(self.w)+1)\n",
    "            j=int(T[j-1]) ## префикс w может содержится в w несколько раз\n",
    "                           \n",
    "         if len(pos)!=0:\n",
    "            print('Совпадение найдено, образ найден по индексу', pos)\n",
    "         else:\n",
    "            print('Совпадений не найдено')"
   ]
  },
  {
   "cell_type": "code",
   "execution_count": 125,
   "metadata": {},
   "outputs": [
    {
     "name": "stdout",
     "output_type": "stream",
     "text": [
      "Совпадение найдено, образ найден по индексу [12]\n"
     ]
    }
   ],
   "source": [
    "k=KMP('солнце','тучатучатучасолнцетучатуча')\n",
    "t=k.kmp_table()\n",
    "k.kmp_search(t)"
   ]
  },
  {
   "cell_type": "code",
   "execution_count": 126,
   "metadata": {},
   "outputs": [
    {
     "name": "stdout",
     "output_type": "stream",
     "text": [
      "Совпадение найдено, образ найден по индексу [2, 10, 29, 38]\n"
     ]
    }
   ],
   "source": [
    "w='чет'\n",
    "s='В четверг четвертого числа в четыре с четвертью часа'\n",
    "k=KMP(w,s)\n",
    "t=k.kmp_table()\n",
    "k.kmp_search(t)"
   ]
  },
  {
   "cell_type": "markdown",
   "metadata": {},
   "source": [
    "# "
   ]
  }
 ],
 "metadata": {
  "kernelspec": {
   "display_name": "Python 3",
   "language": "python",
   "name": "python3"
  },
  "language_info": {
   "codemirror_mode": {
    "name": "ipython",
    "version": 3
   },
   "file_extension": ".py",
   "mimetype": "text/x-python",
   "name": "python",
   "nbconvert_exporter": "python",
   "pygments_lexer": "ipython3",
   "version": "3.8.5"
  }
 },
 "nbformat": 4,
 "nbformat_minor": 4
}
