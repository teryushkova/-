{
 "cells": [
  {
   "cell_type": "markdown",
   "metadata": {},
   "source": [
    "# Задачи"
   ]
  },
  {
   "cell_type": "markdown",
   "metadata": {},
   "source": [
    "### Выполнила студентка группы БСТ1903 Терюшкова К.С."
   ]
  },
  {
   "cell_type": "markdown",
   "metadata": {},
   "source": [
    "#### Задача 1. «Треугольник с максимальным периметром»"
   ]
  },
  {
   "cell_type": "markdown",
   "metadata": {},
   "source": [
    "Массив A состоит из целых положительных чисел длин отрезков. Составьте из трех отрезков такой треугольник, чтобы его периметр был максимально возможным. Если невозможно составить треугольник с положительной площадью функция возвращает 0."
   ]
  },
  {
   "cell_type": "code",
   "execution_count": 16,
   "metadata": {},
   "outputs": [
    {
     "name": "stdout",
     "output_type": "stream",
     "text": [
      "Введите длину массива: 5\n",
      "1\n",
      "2\n",
      "9\n",
      "9\n",
      "9\n",
      "[9, 9, 9, 2, 1]\n",
      "Периметр треугольника равен:  27\n"
     ]
    }
   ],
   "source": [
    "\n",
    "def Perimetr (a, b, c):\n",
    "    if (a+b)>c and (a+c)>b and (b+c)>a:\n",
    "        return int(a+b+c)\n",
    "    else:\n",
    "        return 0\n",
    "length=int(input('Введите длину массива: '))\n",
    "mas=[]\n",
    "for i in range(length):\n",
    "    mas.append(int(input()))\n",
    "    mas=sorted(mas, reverse=True)\n",
    "print(mas)\n",
    "for i in range(len(mas)-2):\n",
    "    if Perimetr(mas[i], mas[i+1], mas[i+2])>0:\n",
    "        print(\"Периметр треугольника равен: \", Perimetr(mas[i], mas[i+1], mas[i+2]))\n",
    "    break"
   ]
  },
  {
   "cell_type": "markdown",
   "metadata": {},
   "source": [
    "#### Задача 2. «Максимальное число»"
   ]
  },
  {
   "cell_type": "markdown",
   "metadata": {},
   "source": [
    "Дан массив неотрицательных целых чисел nums. Расположите их в таком порядке, чтобы\n",
    "вместе они образовали максимально возможное число."
   ]
  },
  {
   "cell_type": "code",
   "execution_count": 92,
   "metadata": {},
   "outputs": [
    {
     "name": "stdout",
     "output_type": "stream",
     "text": [
      "[10, 2] —> 210\n",
      "[3, 30, 34, 5, 9] —> 9534330\n",
      "[1] —> 1\n",
      "[10] —> 10\n"
     ]
    }
   ],
   "source": [
    "def maxNum(arr):\n",
    "    def is_a_bigger_than_b(a, b):\n",
    "        ab = int(str(a) + str(b))\n",
    "        ba = int(str(b) + str(a))\n",
    "        if ab > ba:\n",
    "            return True\n",
    "        else:\n",
    "            return False\n",
    "\n",
    "    def sortArr(arr):\n",
    "        for i in range(len(arr) - 1):\n",
    "            biggest = i\n",
    "            for j in range(i + 1, len(arr)):\n",
    "                if not is_a_bigger_than_b(arr[biggest], arr[j]):\n",
    "                    biggest = j\n",
    "                arr[i], arr[biggest] = arr[biggest], arr[i]\n",
    "    sortArr(arr)\n",
    "    return ''.join(str(e) for e in arr)\n",
    "\n",
    "print(\"[10, 2] —>\", maxNum([10, 2]))\n",
    "print(\"[3, 30, 34, 5, 9] —>\", maxNum([3, 30, 34, 5, 9]))\n",
    "print(\"[1] —>\", maxNum([1]))\n",
    "print(\"[10] —>\", maxNum([10]))"
   ]
  },
  {
   "cell_type": "markdown",
   "metadata": {},
   "source": [
    "#### Задача 3. «Сортировка диагоналей в матрице»"
   ]
  },
  {
   "cell_type": "markdown",
   "metadata": {},
   "source": [
    "Дана матрица mat размером m * n, значения целочисленные. Напишите функцию, сортирующую каждую диагональ матрицы по возрастанию и возвращающую получившуюся матрицу."
   ]
  },
  {
   "cell_type": "code",
   "execution_count": 112,
   "metadata": {},
   "outputs": [
    {
     "name": "stdout",
     "output_type": "stream",
     "text": [
      "Ввод:\n",
      "[3, 3, 1, 1]\n",
      "[2, 2, 1, 2]\n",
      "[1, 1, 1, 2]\n",
      "\n",
      "Вывод: \n",
      "[1, 1, 1, 1]\n",
      "[1, 2, 2, 2]\n",
      "[1, 2, 3, 3]\n",
      "\n",
      "Ввод:\n",
      "[11, 25, 66, 1, 69, 7]\n",
      "[23, 55, 17, 45, 15, 52]\n",
      "[75, 31, 36, 44, 58, 8]\n",
      "[22, 27, 33, 25, 68, 4]\n",
      "[84, 28, 14, 11, 5, 50]\n",
      "\n",
      "Вывод: \n",
      "[5, 17, 4, 1, 52, 7]\n",
      "[11, 11, 25, 45, 8, 69]\n",
      "[14, 23, 25, 44, 58, 15]\n",
      "[22, 27, 31, 36, 50, 66]\n",
      "[84, 28, 75, 33, 55, 68]\n"
     ]
    }
   ],
   "source": [
    "def sortDiag(mat):\n",
    "# Размер матрицы\n",
    "    m, n = len(mat), len(mat[0])\n",
    "    temp = [[] for i in range(m+n)]\n",
    "\n",
    "    for i in range(m):\n",
    "        for j in range(n):\n",
    "            temp[i - j].append(mat[i][j])\n",
    "\n",
    "    for line in temp:\n",
    "        line.sort(reverse = True)\n",
    "    for i in range(m):\n",
    "        for j in range(n):\n",
    "            mat[i][j] = temp[i-j].pop()\n",
    "    return mat\n",
    "\n",
    "arr = [[3,3,1,1], \n",
    "       [2,2,1,2], \n",
    "       [1,1,1,2]]\n",
    "print(\"Ввод:\")\n",
    "\n",
    "for l in arr:\n",
    "        print(l)\n",
    "print(\"\\nВывод: \")\n",
    "arr = sortDiag(arr)\n",
    "\n",
    "for l in arr:\n",
    "        print(l)\n",
    "        \n",
    "arr = [[11, 25, 66, 1, 69, 7], \n",
    "       [23, 55, 17, 45, 15, 52], \n",
    "       [75, 31, 36, 44, 58, 8], \n",
    "       [22, 27, 33, 25, 68, 4], \n",
    "       [84, 28, 14, 11, 5, 50]]\n",
    "print(\"\\nВвод:\")\n",
    "\n",
    "for l in arr:\n",
    "        print(l)\n",
    "print(\"\\nВывод: \")\n",
    "arr = sortDiag(arr)\n",
    "for l in arr:\n",
    "        print(l)"
   ]
  },
  {
   "cell_type": "code",
   "execution_count": null,
   "metadata": {},
   "outputs": [],
   "source": []
  }
 ],
 "metadata": {
  "kernelspec": {
   "display_name": "Python 3",
   "language": "python",
   "name": "python3"
  },
  "language_info": {
   "codemirror_mode": {
    "name": "ipython",
    "version": 3
   },
   "file_extension": ".py",
   "mimetype": "text/x-python",
   "name": "python",
   "nbconvert_exporter": "python",
   "pygments_lexer": "ipython3",
   "version": "3.8.5"
  }
 },
 "nbformat": 4,
 "nbformat_minor": 4
}
