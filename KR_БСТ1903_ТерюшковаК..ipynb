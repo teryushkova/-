{
 "cells": [
  {
   "cell_type": "markdown",
   "metadata": {},
   "source": [
    "# Курсовая работа по дисциплине \"Структуры и алгоритмы обработки данных\""
   ]
  },
  {
   "cell_type": "markdown",
   "metadata": {},
   "source": [
    "### Выполнила студентка группы БСТ1903 Терюшкова К.С."
   ]
  },
  {
   "cell_type": "markdown",
   "metadata": {},
   "source": [
    "#### Задача 1. «Треугольник с максимальным периметром»"
   ]
  },
  {
   "cell_type": "markdown",
   "metadata": {},
   "source": [
    "Массив A состоит из целых положительных чисел длин отрезков. Составьте из трех отрезков такой треугольник, чтобы его периметр был максимально возможным. Если невозможно составить треугольник с положительной площадью функция возвращает 0."
   ]
  },
  {
   "cell_type": "code",
   "execution_count": 16,
   "metadata": {},
   "outputs": [
    {
     "name": "stdout",
     "output_type": "stream",
     "text": [
      "Введите длину массива: 5\n",
      "1\n",
      "2\n",
      "9\n",
      "9\n",
      "9\n",
      "[9, 9, 9, 2, 1]\n",
      "Периметр треугольника равен:  27\n"
     ]
    }
   ],
   "source": [
    "\n",
    "def Perimetr (a, b, c):\n",
    "    if (a+b)>c and (a+c)>b and (b+c)>a:\n",
    "        return int(a+b+c)\n",
    "    else:\n",
    "        return 0\n",
    "length=int(input('Введите длину массива: '))\n",
    "mas=[]\n",
    "for i in range(length):\n",
    "    mas.append(int(input()))\n",
    "    mas=sorted(mas, reverse=True)\n",
    "print(mas)\n",
    "for i in range(len(mas)-2):\n",
    "    if Perimetr(mas[i], mas[i+1], mas[i+2])>0:\n",
    "        print(\"Периметр треугольника равен: \", Perimetr(mas[i], mas[i+1], mas[i+2]))\n",
    "    break"
   ]
  },
  {
   "cell_type": "markdown",
   "metadata": {},
   "source": [
    "#### Задача 2. «Максимальное число»"
   ]
  },
  {
   "cell_type": "markdown",
   "metadata": {},
   "source": [
    "Дан массив неотрицательных целых чисел nums. Расположите их в таком порядке, чтобы\n",
    "вместе они образовали максимально возможное число."
   ]
  },
  {
   "cell_type": "code",
   "execution_count": 92,
   "metadata": {},
   "outputs": [
    {
     "name": "stdout",
     "output_type": "stream",
     "text": [
      "[10, 2] —> 210\n",
      "[3, 30, 34, 5, 9] —> 9534330\n",
      "[1] —> 1\n",
      "[10] —> 10\n"
     ]
    }
   ],
   "source": [
    "def maxNum(arr):\n",
    "    def is_a_bigger_than_b(a, b):\n",
    "        ab = int(str(a) + str(b))\n",
    "        ba = int(str(b) + str(a))\n",
    "        if ab > ba:\n",
    "            return True\n",
    "        else:\n",
    "            return False\n",
    "\n",
    "    def sortArr(arr):\n",
    "        for i in range(len(arr) - 1):\n",
    "            biggest = i\n",
    "            for j in range(i + 1, len(arr)):\n",
    "                if not is_a_bigger_than_b(arr[biggest], arr[j]):\n",
    "                    biggest = j\n",
    "                arr[i], arr[biggest] = arr[biggest], arr[i]\n",
    "    sortArr(arr)\n",
    "    return ''.join(str(e) for e in arr)\n",
    "\n",
    "print(\"[10, 2] —>\", maxNum([10, 2]))\n",
    "print(\"[3, 30, 34, 5, 9] —>\", maxNum([3, 30, 34, 5, 9]))\n",
    "print(\"[1] —>\", maxNum([1]))\n",
    "print(\"[10] —>\", maxNum([10]))"
   ]
  },
  {
   "cell_type": "markdown",
   "metadata": {},
   "source": [
    "#### Задача 3. «Сортировка диагоналей в матрице»"
   ]
  },
  {
   "cell_type": "markdown",
   "metadata": {},
   "source": [
    "Дана матрица mat размером m * n, значения целочисленные. Напишите функцию, сортирующую каждую диагональ матрицы по возрастанию и возвращающую получившуюся матрицу."
   ]
  },
  {
   "cell_type": "code",
   "execution_count": 112,
   "metadata": {},
   "outputs": [
    {
     "name": "stdout",
     "output_type": "stream",
     "text": [
      "Ввод:\n",
      "[3, 3, 1, 1]\n",
      "[2, 2, 1, 2]\n",
      "[1, 1, 1, 2]\n",
      "\n",
      "Вывод: \n",
      "[1, 1, 1, 1]\n",
      "[1, 2, 2, 2]\n",
      "[1, 2, 3, 3]\n",
      "\n",
      "Ввод:\n",
      "[11, 25, 66, 1, 69, 7]\n",
      "[23, 55, 17, 45, 15, 52]\n",
      "[75, 31, 36, 44, 58, 8]\n",
      "[22, 27, 33, 25, 68, 4]\n",
      "[84, 28, 14, 11, 5, 50]\n",
      "\n",
      "Вывод: \n",
      "[5, 17, 4, 1, 52, 7]\n",
      "[11, 11, 25, 45, 8, 69]\n",
      "[14, 23, 25, 44, 58, 15]\n",
      "[22, 27, 31, 36, 50, 66]\n",
      "[84, 28, 75, 33, 55, 68]\n"
     ]
    }
   ],
   "source": [
    "def sortDiag(mat):\n",
    "# Размер матрицы\n",
    "    m, n = len(mat), len(mat[0])\n",
    "    temp = [[] for i in range(m+n)]\n",
    "\n",
    "    for i in range(m):\n",
    "        for j in range(n):\n",
    "            temp[i - j].append(mat[i][j])\n",
    "\n",
    "    for line in temp:\n",
    "        line.sort(reverse = True)\n",
    "    for i in range(m):\n",
    "        for j in range(n):\n",
    "            mat[i][j] = temp[i-j].pop()\n",
    "    return mat\n",
    "\n",
    "arr = [[3,3,1,1], \n",
    "       [2,2,1,2], \n",
    "       [1,1,1,2]]\n",
    "print(\"Ввод:\")\n",
    "\n",
    "for l in arr:\n",
    "        print(l)\n",
    "print(\"\\nВывод: \")\n",
    "arr = sortDiag(arr)\n",
    "\n",
    "for l in arr:\n",
    "        print(l)\n",
    "        \n",
    "arr = [[11, 25, 66, 1, 69, 7], \n",
    "       [23, 55, 17, 45, 15, 52], \n",
    "       [75, 31, 36, 44, 58, 8], \n",
    "       [22, 27, 33, 25, 68, 4], \n",
    "       [84, 28, 14, 11, 5, 50]]\n",
    "print(\"\\nВвод:\")\n",
    "\n",
    "for l in arr:\n",
    "        print(l)\n",
    "print(\"\\nВывод: \")\n",
    "arr = sortDiag(arr)\n",
    "for l in arr:\n",
    "        print(l)"
   ]
  },
  {
   "cell_type": "markdown",
   "metadata": {},
   "source": [
    "#### Задача 4. \"Даны две строки\""
   ]
  },
  {
   "cell_type": "markdown",
   "metadata": {},
   "source": [
    "Даны две строки: s1 и s2 с одинаковым размером, проверьте, может ли некоторая перестановка строки s1 “победить” некоторую перестановку строки s2 или наоборот. Строка x может “победить” строку y (обе имеют размер n), если x[i]> = y [i] (в алфавитном порядке) для всех i от 0 до n-1."
   ]
  },
  {
   "cell_type": "code",
   "execution_count": 13,
   "metadata": {},
   "outputs": [
    {
     "data": {
      "text/plain": [
       "False"
      ]
     },
     "execution_count": 13,
     "metadata": {},
     "output_type": "execute_result"
    }
   ],
   "source": [
    "def St_win(str1, str2):\n",
    "    if len(str1)!=len(str2):\n",
    "        return False\n",
    "    st1=list(str1)\n",
    "    st2=list(str2)\n",
    "    l=len(st1)\n",
    "    st1.sort()\n",
    "    st2.sort()\n",
    "    i=0\n",
    "    while i<l and st1[i]==st2[i]:\n",
    "        i+=1\n",
    "    if i == l:\n",
    "        return True\n",
    "    if st1[i]>st2[i]:\n",
    "        for k in range(len(st1)):\n",
    "            if(st1[k]<st2[k]):\n",
    "                return False\n",
    "        return True\n",
    "    else:\n",
    "        for k in range(len(st2)):\n",
    "            if(st2[k]<st1[k]):\n",
    "                return False\n",
    "        return True\n",
    "            \n",
    "St_win('абвгд','стуф')"
   ]
  },
  {
   "cell_type": "markdown",
   "metadata": {},
   "source": [
    "#### Задача 5. \"Дана строка S\""
   ]
  },
  {
   "cell_type": "markdown",
   "metadata": {},
   "source": [
    "Дана строка s, вернуть самую длинную полиндромную подстроку в s."
   ]
  },
  {
   "cell_type": "code",
   "execution_count": 14,
   "metadata": {},
   "outputs": [
    {
     "name": "stdout",
     "output_type": "stream",
     "text": [
      "Введите строку: йцукенгшщзххзщшгнекуц\n",
      "Самая длинная палиндромная строка:\n",
      "цукенгшщзххзщшгнекуц\n"
     ]
    }
   ],
   "source": [
    "def palindrome(x):\n",
    "    if len(x) <= 1: ## Возвращает True, если строка является палиндромом\n",
    "        return False\n",
    "    return x == x[::-1] ## Сравнивает строку с обратной строкой\n",
    "def longest_palindrome(s):\n",
    "    last = len(s)\n",
    "    lst = [] ## Объявление подстроки\n",
    "    for i in range(last):\n",
    "        for j in range(i, last): ## Цикл, идущий от i до последнего элемента. (не от i+1 до последнего)\n",
    "            b = s[i:j+1]  ## Разбивка исходной строки для получения подстроки и проверка, является ли она паллиндромом или нет.\n",
    "            if palindrome(b):\n",
    "                lst.append(b) \n",
    "            else:\n",
    "                continue\n",
    "    return lst[0] ## Возвращение самого длинного палиндрома\n",
    "st = input(\"Введите строку: \")\n",
    "print(\"Самая длинная палиндромная строка:\")\n",
    "print(longest_palindrome(st))"
   ]
  },
  {
   "cell_type": "markdown",
   "metadata": {},
   "source": [
    "#### Задача 6. \"Вернуть количество отдельных непустых подстрок\""
   ]
  },
  {
   "cell_type": "markdown",
   "metadata": {},
   "source": [
    "Вернуть количество отдельных непустых подстрок текста, которые могут быть записаны как конкатенация некоторой строки с самой собой (т.е. она может быть записана, как a + a, где a - некоторая строка)."
   ]
  },
  {
   "cell_type": "code",
   "execution_count": 22,
   "metadata": {},
   "outputs": [
    {
     "name": "stdout",
     "output_type": "stream",
     "text": [
      "Введите строку: аабабабаббасссабсбабсбаббабаб\n",
      "Количество отдельных непустых подстрок:10\n"
     ]
    }
   ],
   "source": [
    "def concat(s):\n",
    "    L = len(s)\n",
    "    k = 0\n",
    "    \n",
    "    parts = []\n",
    "    for i in range(2, L, 2):\n",
    "        for j in range(L - i + 1):\n",
    "            word = s[j:j + i]\n",
    "            #разбиение подстроки \n",
    "            part1 = word[:i // 2]\n",
    "            part2 = word[i // 2:]\n",
    "            if part1 == part2 and not part1 in parts:\n",
    "                parts.append(part1)\n",
    "                k += 1\n",
    "    \n",
    "    return (\"Количество отдельных непустых подстрок:\"+str(k))\n",
    "\n",
    "print(concat(input(\"Введите строку: \")))"
   ]
  },
  {
   "cell_type": "markdown",
   "metadata": {},
   "source": [
    "#### Задача 7. «Стопки монет»"
   ]
  },
  {
   "cell_type": "markdown",
   "metadata": {},
   "source": [
    "На столе стоят 3n стопок монет. Вы и ваши друзья Алиса и Боб забираете стопки монет по следующему алгоритму:\n",
    "\n",
    "1. Вы выбираете 3 стопки монет из оставшихся на столе.\n",
    "2. Алиса забирает себе стопку с максимальным количеством монет.\n",
    "3. Вы забираете одну из двух оставшихся стопок.\n",
    "4. Боб забирает последнюю стопку.\n",
    "5. Если еще остались стопки, то действия повторяются с первого шага\n",
    "\n",
    "Дан массив целых положительных чисел piles. Напишите функцию, возвращающую максимальное число монет, которое вы можете получить."
   ]
  },
  {
   "cell_type": "code",
   "execution_count": 35,
   "metadata": {},
   "outputs": [
    {
     "data": {
      "text/plain": [
       "188"
      ]
     },
     "execution_count": 35,
     "metadata": {},
     "output_type": "execute_result"
    }
   ],
   "source": [
    "def Coins_max(arr):\n",
    "    arr.sort() ## Сортируем массив\n",
    "    a = len(arr)//3 ## Целочисленное деление длины на 3\n",
    "    me = 0\n",
    "    while a < len(arr):\n",
    "        me = me + arr[a]\n",
    "        a = a + 2\n",
    "    return (me)\n",
    "Coins_max([94,87,27,66,54,11,2,53,47])"
   ]
  },
  {
   "cell_type": "markdown",
   "metadata": {},
   "source": [
    "#### Задача 8.  «Шарики и стрелы»"
   ]
  },
  {
   "cell_type": "markdown",
   "metadata": {},
   "source": [
    "Некоторые сферические шарики распределены по двухмерному пространству. Для каждого шарика даны x-координаты начала и конца его горизонтального диаметра. Так как пространство двумерно, то y-координаты не имеют значения в данной задаче. Координата xstart всегда меньше xend. Стрелу можно выстрелить строго вертикально (вдоль y-оси) из разных точек x-оси. Шарик с координатами xstart и xend уничтожается стрелой, если она была выпущена из такой позиции x, что xstart ⩽ x ⩽ xend. Когда стрела выпущена, она летит в пространстве бесконечное время (уничтожая все шарики на пути). Дан массив points, где points[i] = [xstart, xend]. Напишите функцию, возвращающую минимальное количество стрел, которые нужно выпустить, чтобы уничтожить все шарики."
   ]
  },
  {
   "cell_type": "code",
   "execution_count": 30,
   "metadata": {},
   "outputs": [
    {
     "name": "stdout",
     "output_type": "stream",
     "text": [
      "[[0, 1], [5, 6], [7, 5], [9, 2]]\n",
      "4\n"
     ]
    }
   ],
   "source": [
    "class shariki:\n",
    "    def __init__(self, mass):\n",
    "        self.mass=mass\n",
    "        self.count=1\n",
    "    \n",
    "    def search(self):\n",
    "        if len(self.mass)==0: \n",
    "            self.count=0\n",
    "        else:\n",
    "            m=0\n",
    "            for i in range(len(self.mass)):\n",
    "                self.mass.sort() \n",
    "            print(self.mass)\n",
    "            for i in range(len(self.mass)-1):\n",
    "                if self.mass[m][1]<self.mass[i+1][0]: ## если граница 2-го шарика за пределами 1-го\n",
    "                    self.count=self.count+1 ## если шарики не входят, то прибавляет кол-во стрел\n",
    "                    m=i+1 \n",
    "                elif self.mass[m][0]<=self.mass[i+1][0] and self.mass[m][1]>=self.mass[i+1][1]: ## если 2 шарик входит в 1, то переключается на 2\n",
    "                       m=i+1\n",
    "                    \n",
    "        return self.count\n",
    "            \n",
    "arr = [[5,6],[7,5],[9,2],[0,1]]        \n",
    "a = shariki(arr)\n",
    "print(a.search())"
   ]
  },
  {
   "cell_type": "markdown",
   "metadata": {},
   "source": [
    "#### Задача 9. «Объединение отрезков»"
   ]
  },
  {
   "cell_type": "markdown",
   "metadata": {},
   "source": [
    "Дан массив отрезков intervals, в котором intervals[i] = [starti, endi], некоторые отрезки могут пересекаться. Напишите функцию, которая объединяет все пересекающиеся отрезки в один и возвращает новый массив непересекающихся отрезков."
   ]
  },
  {
   "cell_type": "code",
   "execution_count": 33,
   "metadata": {},
   "outputs": [
    {
     "data": {
      "text/plain": [
       "[[-3, 0], [5, 9]]"
      ]
     },
     "execution_count": 33,
     "metadata": {},
     "output_type": "execute_result"
    }
   ],
   "source": [
    "def union_of_lines(interv):\n",
    "    interv.sort()\n",
    "    i=0\n",
    "    while i <len(interv)-1:\n",
    "        if interv[i][1]>=interv[i+1][0]:\n",
    "            a=interv.pop(0)\n",
    "            b=interv.pop(0)\n",
    "            interv.insert(0, [a[0],b[1]])\n",
    "        else:\n",
    "            i+=1\n",
    "    return interv\n",
    "\n",
    "union_of_lines([[5,9],[-3,7],[0,3],[1,0]])"
   ]
  },
  {
   "cell_type": "markdown",
   "metadata": {},
   "source": [
    "# Вывод"
   ]
  },
  {
   "cell_type": "markdown",
   "metadata": {},
   "source": [
    "\n",
    "В ходе данной курсовой работы были решены задачи, с использованием алгоритмов для обработки данных, например, массивов, строк и др. Были решены зададачи по массивам (нахождение максимального периметра треугольника, сортировка диагоналей матрицы и тд.), строкам (нахождение самой длинной палиндромной подстроки в строке, нахождение количества отдельных подстрок текста и тд.), а так же задачи на логику и закрепление материала: \"монетки\", \"шарики и стрелы\" и \"объединение отрезков\"."
   ]
  },
  {
   "cell_type": "code",
   "execution_count": null,
   "metadata": {},
   "outputs": [],
   "source": []
  }
 ],
 "metadata": {
  "kernelspec": {
   "display_name": "Python 3",
   "language": "python",
   "name": "python3"
  },
  "language_info": {
   "codemirror_mode": {
    "name": "ipython",
    "version": 3
   },
   "file_extension": ".py",
   "mimetype": "text/x-python",
   "name": "python",
   "nbconvert_exporter": "python",
   "pygments_lexer": "ipython3",
   "version": "3.8.5"
  }
 },
 "nbformat": 4,
 "nbformat_minor": 4
}
