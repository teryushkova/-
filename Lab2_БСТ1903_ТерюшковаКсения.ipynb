{
 "cells": [
  {
   "cell_type": "markdown",
   "metadata": {},
   "source": [
    "# Лабораторная работа №2\n",
    "## Выполнила студентка группы БСТ1903 Терюшкова К.С.\n",
    "### Задание 1"
   ]
  },
  {
   "cell_type": "markdown",
   "metadata": {},
   "source": [
    "### Бинарный поиск"
   ]
  },
  {
   "cell_type": "code",
   "execution_count": 26,
   "metadata": {},
   "outputs": [
    {
     "name": "stdout",
     "output_type": "stream",
     "text": [
      "[1, 1, 2, 4, 8, 9, 12, 12, 12, 13, 16, 16, 16, 17, 17, 19, 19, 20, 21, 21, 24, 25, 26, 27, 30, 30, 31, 32, 32, 33, 33, 37, 37, 38, 39, 39, 41, 41, 42, 42, 43, 43, 43, 44, 44, 44, 46, 48, 48, 49, 49, 50, 50, 51, 52, 52, 55, 56, 56, 57, 59, 60, 62, 63, 65, 67, 68, 69, 69, 70, 70, 71, 71, 71, 72, 72, 74, 75, 75, 75, 77, 77, 81, 81, 82, 82, 82, 82, 83, 85, 88, 90, 91, 92, 94, 95, 96, 99, 99, 99]\n",
      "-1\n"
     ]
    }
   ],
   "source": [
    "import numpy\n",
    "def find_num(array, key):\n",
    "    for i in range(len(array)):\n",
    "        if array[i]==key:\n",
    "            return i\n",
    "    return -1\n",
    "def binary_search(array, key):\n",
    "        lower_bound=0\n",
    "        upper_bound = len(array)-1\n",
    "        while lower_bound<= upper_bound:\n",
    "            center = (lower_bound+upper_bound)//2\n",
    "            if array[center] == key:\n",
    "                return center\n",
    "            elif array[center]> key:\n",
    "                upper_bound = center -1\n",
    "            elif array[center] <key:\n",
    "                    lower_bound +=center+1\n",
    "        return -1\n",
    "       \n",
    "def __delitem__(self, key):\n",
    "    \"\"\" Удалить элемент \"\"\"\n",
    "    index = self.search(key)\n",
    "    self.data.pop(index)\n",
    "    \n",
    "def __getitem__(self, key):\n",
    "    \"\"\" Получить элемент \"\"\"\n",
    "    index = self.search(key)\n",
    "    found_key, val = self.data[index]\n",
    "    # если найденный индекс выдает запрашиваемый ключ\n",
    "    if found_key == key:\n",
    "        return val\n",
    "    raise KeyError()\n",
    "    \n",
    "x=numpy.random.randint(0, 100, 100)\n",
    "x=sorted(x)\n",
    "print(x)\n",
    "print(binary_search(x, 5))"
   ]
  },
  {
   "cell_type": "markdown",
   "metadata": {},
   "source": [
    "### Бинарное дерево"
   ]
  },
  {
   "cell_type": "code",
   "execution_count": 25,
   "metadata": {},
   "outputs": [
    {
     "name": "stdout",
     "output_type": "stream",
     "text": [
      "[0, 2, 3, 3, 4, 5, 6, 8, 9, 9, 11, 12, 14, 15, 16, 17, 17, 18, 21, 22, 22, 22, 24, 24, 24, 24, 25, 26, 27, 27, 27, 29, 29, 29, 30, 30, 32, 35, 35, 37, 37, 37, 38, 39, 40, 40, 40, 42, 43, 44, 45, 47, 48, 50, 50, 50, 51, 53, 53, 56, 57, 57, 58, 59, 59, 61, 61, 66, 66, 67, 67, 70, 71, 72, 72, 72, 74, 74, 74, 75, 77, 78, 79, 79, 80, 81, 82, 82, 82, 83, 83, 88, 89, 89, 91, 91, 91, 95, 96, 98]\n",
      "5\n"
     ]
    }
   ],
   "source": [
    "class Tree:\n",
    "    def __init__(self, ley, value):\n",
    "        self.key=key\n",
    "        self.value=value\n",
    "        self.left = self.right=None\n",
    "class BinaryTreeMap:\n",
    "    root=None\n",
    "    def insert(self, tree, ley, value):\n",
    "        if tree is None:\n",
    "            return Tree(key, value)\n",
    "        if tree.key>key:\n",
    "            tree.left=self.insert.insert(tree.left, key, value)\n",
    "        else:\n",
    "            tree.value=value\n",
    "        return tree\n",
    "    def search(self, tree, key):\n",
    "        if tree is None or tree.key==key:\n",
    "            return self.search(tree.left, key)\n",
    "        return self.search(tree.right, key)\n",
    "    def __setitem__(self, key, value):\n",
    "        if self.size+1> len(self.data)//2:\n",
    "            self._resize()\n",
    "                   \n",
    "    def __getitem__(self, key):\n",
    "        tree = self.search(self.root, key)\n",
    "        if tree is not None:\n",
    "            return tree.value\n",
    "        raise KeyError()\n",
    "    \n",
    "    def __setitem__(self, key, value):\n",
    "        if self.root is None:\n",
    "            self.root = self.insert(self.root, key, value)\n",
    "        else: self.insert(self.root, key, value)\n",
    "        \n",
    "x=numpy.random.randint(0, 100, 100)\n",
    "x=sorted(x)\n",
    "print(x)\n",
    "print(binary_search(x, 5))"
   ]
  },
  {
   "cell_type": "markdown",
   "metadata": {},
   "source": [
    "### Поиск Фибоначчи"
   ]
  },
  {
   "cell_type": "code",
   "execution_count": 57,
   "metadata": {},
   "outputs": [
    {
     "name": "stdout",
     "output_type": "stream",
     "text": [
      "-1\n"
     ]
    }
   ],
   "source": [
    "class FibonacciSearch:\n",
    "    def __init__(self):\n",
    "        self.i=0\n",
    "        self.p=0\n",
    "        self.q=0\n",
    "        self.stop=False\n",
    "        \n",
    "    def get_fibonacci_number(self, k):\n",
    "        first_number=0\n",
    "        second_number=1\n",
    "        n=0\n",
    "        while n<k:\n",
    "            temp_number=second_number\n",
    "            second_number= first_number+second_number\n",
    "            first_number=temp_number\n",
    "            n=n+1\n",
    "        return first_number\n",
    "    \n",
    "    def start_init(self, sequince):\n",
    "        self.stop=False\n",
    "        k=0\n",
    "        n=len(sequince)\n",
    "        while (self.get_fibonacci_number(k+1)<len(sequince)):\n",
    "            k=k+1\n",
    "        m=self.get_fibonacci_number(k+1)-(n+1)\n",
    "        self.i=self.get_fibonacci_number(k)-m\n",
    "        self.p=self.get_fibonacci_number(k-1)\n",
    "        self.q=self.get_fibonacci_number(k-2)\n",
    "    def up_index(self):\n",
    "        if self.p==1:\n",
    "            self.stop=True\n",
    "        self.i=self.i+self.q\n",
    "        self.p=self.p-self.q\n",
    "        self.q=self.q-self.p\n",
    "    def down_index(self):\n",
    "        if self.q==0:\n",
    "            self.stop=True\n",
    "        self.i=self.i-self.q\n",
    "        temp=self.q\n",
    "        self.q=self.p-self.q\n",
    "        self.p=temp\n",
    "    def search (self, sequince, element):\n",
    "        self.start_init(sequince)\n",
    "        result_index=-1\n",
    "        while not self.stop:\n",
    "            if self.i<0:\n",
    "                self.up_index()\n",
    "            elif self.i>=len(sequince):\n",
    "                    self.down_index()\n",
    "            elif sequince[self.i]==element:\n",
    "                result_index=self.i\n",
    "                break\n",
    "            elif element < sequince[self.i]:\n",
    "                self.down_index()\n",
    "            elif element > sequince[self.i]:\n",
    "                self.up_index()\n",
    "                return result_index\n",
    "sequince = [-2, 0, 3, 5, 7, 9, 11, 15, 18, 21]\n",
    "fs=FibonacciSearch()\n",
    "element= 1\n",
    "print(fs.search(sequince, element))"
   ]
  },
  {
   "cell_type": "markdown",
   "metadata": {},
   "source": [
    "### Интерполяционный поиск"
   ]
  },
  {
   "cell_type": "code",
   "execution_count": 47,
   "metadata": {},
   "outputs": [
    {
     "name": "stdout",
     "output_type": "stream",
     "text": [
      "7\n"
     ]
    }
   ],
   "source": [
    "def interpolation_search(sequince, element):\n",
    "    l=0\n",
    "    r=len(sequince)-1\n",
    "    while sequince[l]<element and sequince[r]>element:\n",
    "        if sequince[l]==sequince[r]:\n",
    "            break\n",
    "        index=(element-sequince[l])*(l-r)//(sequince[l]-sequince[r])+l\n",
    "        if sequince[index]> element:\n",
    "            r = index-l\n",
    "        elif sequince[index]<element:\n",
    "            l = index+l\n",
    "        else:\n",
    "            return index\n",
    "    if sequince[l]==element:\n",
    "        return l\n",
    "    if sequince[r]==element:\n",
    "        return r\n",
    "    return -1\n",
    "sequince=[-2, 0, 3, 5 ,7 ,9, 11, 15, 18]\n",
    "\n",
    "element = 15\n",
    "\n",
    "print(interpolation_search(sequince, element))"
   ]
  },
  {
   "cell_type": "markdown",
   "metadata": {},
   "source": [
    "# Задание №2"
   ]
  },
  {
   "cell_type": "markdown",
   "metadata": {},
   "source": [
    "### Просторе рехэшироание"
   ]
  },
  {
   "cell_type": "code",
   "execution_count": 39,
   "metadata": {},
   "outputs": [],
   "source": [
    "class HashTable:\n",
    "    size = 20\n",
    "\n",
    "    def __init__(self):\n",
    "        self.data = [None] * self.size\n",
    "\n",
    "    def __getitem__(self, key):\n",
    "        h = self.get_hash(key)\n",
    "        try:\n",
    "            while self.data[h]:\n",
    "                if self.data[h] and self.data[h][\"key\"] == key:\n",
    "                    return self.data[h]\n",
    "            h = self.get_rehash(h)\n",
    "        except IndexError:\n",
    "            return\n",
    "\n",
    "    def __setitem__(self, key, value):\n",
    "        h = self.get_hash(key)\n",
    "        if self.data[h] is None:\n",
    "            self.data[h] = {\"key\": key, \"value\": value}\n",
    "            return\n",
    "\n",
    "        next_h = self.get_rehash(h)\n",
    "        try:\n",
    "            while self.data[next_h] is not None:\n",
    "                if self.data[next_h][\"key\"] == key:\n",
    "                    self.data[next_h][\"key\"] = value\n",
    "                    break\n",
    "    \n",
    "                next_h = self.get_rehash(next_h)\n",
    "        except IndexError:\n",
    "            raise\n",
    "            self.data[next_h] = {\"key\": key, \"value\": value}\n",
    "\n",
    "    def get_hash(self, name):\n",
    "        return len(name) % self.size\n",
    "\n",
    "    def get_rehash(self, oldhash):\n",
    "        return oldhash + 1\n",
    "\n",
    "    def delete(self, key):\n",
    "        h = self.get_hash(key)\n",
    "        if self.data[h] and self.data[h][\"key\"] == key:\n",
    "            self.data[h] = HashTable.Deleted()\n",
    "            return\n",
    "\n",
    "        h_next = self.get_rehash(h)\n",
    "\n",
    "        try:\n",
    "            while self.data[h_next] is not None:\n",
    "                while isinstance(self.data[h_next], HashTable.Deleted): # skip deleted\n",
    "                    if self.data[h_next][\"key\"] == key:\n",
    "                        self.data[h_next] = None\n",
    "                    break\n",
    "    \n",
    "                    h_next = self.get_rehash(h_next)\n",
    "        except IndexError:\n",
    "                    raise\n",
    "        self.data[h_next] = None"
   ]
  },
  {
   "cell_type": "markdown",
   "metadata": {},
   "source": [
    "### Рехэширование с помощью псевдослучайных чисел"
   ]
  },
  {
   "cell_type": "code",
   "execution_count": 40,
   "metadata": {},
   "outputs": [],
   "source": [
    "import random\n",
    "class random_rehash():\n",
    "    # Конструктор, создание словаря\n",
    "    def __init__(self):\n",
    "        self.rhash=[None]*256\n",
    "\n",
    "    def rand(self, element): #генерация псевдослучайного числа\n",
    "        key=int(0)\n",
    "        for i in range(len(element)):\n",
    "            key=key+ord(element[i])\n",
    "        return key\n",
    "\n",
    "    def keys(self, key, l): # Формирование ключа\n",
    "        random.seed(l)\n",
    "        return int(key+((random.random()*10000000000000000)%1000))\n",
    "    \n",
    "    def add(self, element): # Добавление элемента\n",
    "        l=int(0)\n",
    "        key=self.rand(element)\n",
    "        key1=self.keys(key, l)%256\n",
    "        while key1<len(self.rhash) and self.rhash[key1] is not None:\n",
    "            l=l+1\n",
    "            key1= self.keys(key, l)%256\n",
    "        if key1<len(self.rhash):\n",
    "            self.rhash[key1]=element\n",
    "        else:\n",
    "            print(\"Таблица заполнена\")\n",
    "\n",
    "    def search(self, element): # Поиск элемента\n",
    "        l=int(0)\n",
    "        key=self.rand(element)\n",
    "        key1=self.keys(key, l)%256\n",
    "        while key1<len(self.rhash) and self.rhash[key1] is not None:\n",
    "            if self.rhash[key1]==element:\n",
    "                return key1\n",
    "            else:\n",
    "                l=l+1\n",
    "                key1=self.keys(key, l)\n",
    "            return None\n",
    "\n",
    "    def deleted(self, element): # Удаление элемента\n",
    "        l=int(0)\n",
    "        keyn=self.rand(element)\n",
    "        key1=self.keys(keyn, l)%256\n",
    "        key=self.search(element)\n",
    "        if key is not None:\n",
    "            while key is not key1:\n",
    "                l=l+1\n",
    "                key1=self.keys(keyn, l)%256\n",
    "            self.rhash[key]=None\n",
    "            l=l+1\n",
    "            key1=self.keys(keyn, l)%256\n",
    "            while key1<len(self.rhash) and self.rhash[key1] is not None:\n",
    "                el=self.rhash[key1]\n",
    "                self.rhash[key1]=None\n",
    "                self.add(el)\n",
    "                l=l+1\n",
    "                key1=self.keys(keyn, l)%256\n",
    "            return \"Элемент удален\"\n",
    "        else:\n",
    "            return \"Элемент не найден\"\n",
    "\n",
    "    def pr(self): #\n",
    "        for key, i in enumerate(self.rhash):\n",
    "            if self.rhash[key] is not None:\n",
    "                print(key, \" \", i)"
   ]
  },
  {
   "cell_type": "markdown",
   "metadata": {},
   "source": [
    "### Метод цепочек"
   ]
  },
  {
   "cell_type": "code",
   "execution_count": 43,
   "metadata": {},
   "outputs": [],
   "source": [
    "class ChainMap:\n",
    "    def __init__(self):\n",
    "        self.size = 0\n",
    "        self.data = []\n",
    "        self._resize()\n",
    "\n",
    "    def _hash(self, key):\n",
    "        return hash(key) % len(self.data)\n",
    "\n",
    "    def _insert(self, index, item):\n",
    "        if self.data[index] is None:\n",
    "            self.data[index] = [item]\n",
    "            return True\n",
    "        else:\n",
    "            for i, item_ in enumerate(self.data[index]):\n",
    "                if item_[0] == item[0]:\n",
    "                    self.data[index][i] = item\n",
    "                    return False\n",
    "                self.data[index].append(item)\n",
    "                return True\n",
    "\n",
    "    def _resize(self):\n",
    "        temp = self.data\n",
    "        self.data = [None] * (2*len(self.data) + 1)\n",
    "        for bucket in temp:\n",
    "            if bucket is not None:\n",
    "                for key, value in bucket:\n",
    "                    self._insert(self._hash(key), (key, value))\n",
    "\n",
    "    def __setitem__(self, key, value):\n",
    "        if self.size + 1 > len(self.data) // 1.5:\n",
    "            self._resize()\n",
    "        if self._insert(self._hash(key), (key, value)):\n",
    "            self.size += 1\n",
    "\n",
    "    def __getitem__(self, key):\n",
    "        index = self._hash(key)\n",
    "        if self.data[index] is not None:\n",
    "            for key_, value in self.data[index]:\n",
    "                if key_ == key:\n",
    "                    return value\n",
    "        raise KeyError()\n",
    " \n"
   ]
  },
  {
   "cell_type": "markdown",
   "metadata": {},
   "source": [
    "### Задание 3"
   ]
  },
  {
   "cell_type": "code",
   "execution_count": 70,
   "metadata": {},
   "outputs": [
    {
     "name": "stdout",
     "output_type": "stream",
     "text": [
      "10\n",
      ". F . . . . . . . .\n",
      ". . . F . . . . . .\n",
      ". . . . . F . . . .\n",
      ". . . . . . . F . .\n",
      ". . . . . . . . . F\n",
      "F . . . . . . . . .\n",
      ". . F . . . . . . .\n",
      ". . . . F . . . . .\n",
      ". . . . . . F . . .\n",
      ". . . . . . . . F .\n"
     ]
    }
   ],
   "source": [
    "n = int(input())\n",
    "remainder = n % 6\n",
    "#Если остаток равен 2, поменяйте местами 1 и 3\n",
    "#в нечетном списке и переместите 5 в конец.\n",
    "if remainder == 2:\n",
    "    even = list(range(1, n, 2))\n",
    "    odd = list(range(2, n, 2))\n",
    "    odd[1] = 0\n",
    "    odd.append(4)\n",
    "#Если остаток равен 3, переместите 2\n",
    "#до конца четного списка и 1, 3\n",
    "#до конца нечетного списка.\n",
    "elif remainder == 3:\n",
    "    even = list(range(3, n, 2))\n",
    "    even.append(1)\n",
    "    odd = list(range(4, n, 2))\n",
    "    odd.append(0)\n",
    "    odd.append(2)\n",
    "#Если остаток от деления n на 6\n",
    "#это не 2 или 3, то список просто\n",
    "#все четные числа, за которыми следуют все\n",
    "#нечетные числа не больше n.\n",
    "else:\n",
    "    even = list(range(1, n, 2))\n",
    "    odd = list(range(0, n, 2))\n",
    "#Добавить нечетный список к четному списку\n",
    "#и расставьте королев по рядам\n",
    "#задается этими числами.\n",
    "    result = even + odd\n",
    "    row = ['.'] * n\n",
    "for i in range(n):\n",
    "    j = result[i]\n",
    "    row[j] = 'F'\n",
    "    print(*row)\n",
    "    row[j] = '.' "
   ]
  },
  {
   "cell_type": "code",
   "execution_count": null,
   "metadata": {},
   "outputs": [],
   "source": []
  },
  {
   "cell_type": "code",
   "execution_count": null,
   "metadata": {},
   "outputs": [],
   "source": []
  }
 ],
 "metadata": {
  "kernelspec": {
   "display_name": "Python 3",
   "language": "python",
   "name": "python3"
  },
  "language_info": {
   "codemirror_mode": {
    "name": "ipython",
    "version": 3
   },
   "file_extension": ".py",
   "mimetype": "text/x-python",
   "name": "python",
   "nbconvert_exporter": "python",
   "pygments_lexer": "ipython3",
   "version": "3.8.5"
  }
 },
 "nbformat": 4,
 "nbformat_minor": 4
}
