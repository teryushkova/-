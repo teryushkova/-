{
 "cells": [
  {
   "cell_type": "markdown",
   "metadata": {},
   "source": [
    "# Лабораторная работа №2\n",
    "## Выполнила студентка группы БСТ1903 Терюшкова К.С.\n",
    "### Задание 1"
   ]
  },
  {
   "cell_type": "markdown",
   "metadata": {},
   "source": [
    "### Бинарный поиск"
   ]
  },
  {
   "cell_type": "code",
   "execution_count": 1,
   "metadata": {},
   "outputs": [
    {
     "name": "stdout",
     "output_type": "stream",
     "text": [
      "[0, 2, 3, 4, 4, 5, 6, 6, 7, 9, 10, 11, 12, 13, 14, 15, 15, 16, 17, 17, 18, 19, 19, 19, 20, 20, 20, 21, 23, 24, 24, 24, 26, 26, 26, 27, 27, 27, 30, 32, 33, 35, 37, 39, 40, 43, 43, 47, 47, 52, 52, 53, 53, 53, 53, 55, 56, 56, 57, 57, 57, 59, 61, 63, 64, 65, 65, 67, 68, 68, 69, 70, 70, 70, 70, 71, 72, 72, 74, 74, 75, 76, 77, 79, 80, 84, 85, 86, 86, 86, 87, 91, 91, 92, 93, 96, 97, 98, 99, 99]\n",
      "5\n"
     ]
    }
   ],
   "source": [
    "import numpy\n",
    "def find_num(array, key):\n",
    "    for i in range(len(array)):\n",
    "        if array[i]==key:\n",
    "            return i\n",
    "    return -1\n",
    "def binary_search(array, key):\n",
    "        lower_bound=0\n",
    "        upper_bound = len(array)-1\n",
    "        while lower_bound<= upper_bound:\n",
    "            center = (lower_bound+upper_bound)//2\n",
    "            if array[center] == key:\n",
    "                return center\n",
    "            elif array[center]> key:\n",
    "                upper_bound = center -1\n",
    "            elif array[center] <key:\n",
    "                    lower_bound +=center+1\n",
    "        return -1\n",
    "x=numpy.random.randint(0, 100, 100)\n",
    "x=sorted(x)\n",
    "print(x)\n",
    "print(binary_search(x, 5))"
   ]
  },
  {
   "cell_type": "markdown",
   "metadata": {},
   "source": [
    "### Бинарное дерево"
   ]
  },
  {
   "cell_type": "code",
   "execution_count": 10,
   "metadata": {},
   "outputs": [
    {
     "name": "stdout",
     "output_type": "stream",
     "text": [
      "[3, 6, 6, 9, 10, 11, 12, 14, 15, 15, 18, 18, 22, 22, 22, 22, 23, 24, 24, 24, 24, 25, 26, 28, 29, 30, 30, 33, 35, 36, 39, 39, 39, 40, 41, 42, 42, 43, 43, 51, 52, 52, 52, 53, 55, 55, 55, 58, 60, 61, 62, 63, 64, 66, 66, 68, 68, 68, 69, 70, 70, 71, 71, 72, 74, 74, 74, 75, 76, 77, 77, 79, 79, 80, 80, 80, 81, 81, 82, 84, 84, 84, 85, 85, 86, 87, 87, 89, 89, 89, 90, 91, 92, 93, 94, 94, 96, 98, 98, 99]\n",
      "-1\n"
     ]
    }
   ],
   "source": [
    "class Tree:\n",
    "    def __init__(self, ley, value):\n",
    "        self.key=key\n",
    "        self.value=value\n",
    "        self.left = self.right=None\n",
    "class BinaryTreeMap:\n",
    "    root=None\n",
    "    def insert(self, tree, ley, value):\n",
    "        if tree is None:\n",
    "            return Tree(key, value)\n",
    "        if tree.key>key:\n",
    "            tree.left=self.insert.insert(tree.left, key, value)\n",
    "        else:\n",
    "            tree.value=value\n",
    "        return tree\n",
    "    def search(self, tree, key):\n",
    "        if tree is None or tree.key==key:\n",
    "            return self.search(tree.left, key)\n",
    "        return self.search(tree.right, key)\n",
    "    def __setitem__(self, key, value):\n",
    "        if self.size+1> len(self.data)//2:\n",
    "            self._resize()\n",
    "            \n",
    "x=numpy.random.randint(0, 100, 100)\n",
    "x=sorted(x)\n",
    "print(x)\n",
    "print(binary_search(x, 5))"
   ]
  },
  {
   "cell_type": "markdown",
   "metadata": {},
   "source": [
    "### Поиск Фибоначчи"
   ]
  },
  {
   "cell_type": "code",
   "execution_count": 57,
   "metadata": {},
   "outputs": [
    {
     "name": "stdout",
     "output_type": "stream",
     "text": [
      "-1\n"
     ]
    }
   ],
   "source": [
    "class FibonacciSearch:\n",
    "    def __init__(self):\n",
    "        self.i=0\n",
    "        self.p=0\n",
    "        self.q=0\n",
    "        self.stop=False\n",
    "        \n",
    "    def get_fibonacci_number(self, k):\n",
    "        first_number=0\n",
    "        second_number=1\n",
    "        n=0\n",
    "        while n<k:\n",
    "            temp_number=second_number\n",
    "            second_number= first_number+second_number\n",
    "            first_number=temp_number\n",
    "            n=n+1\n",
    "        return first_number\n",
    "    \n",
    "    def start_init(self, sequince):\n",
    "        self.stop=False\n",
    "        k=0\n",
    "        n=len(sequince)\n",
    "        while (self.get_fibonacci_number(k+1)<len(sequince)):\n",
    "            k=k+1\n",
    "        m=self.get_fibonacci_number(k+1)-(n+1)\n",
    "        self.i=self.get_fibonacci_number(k)-m\n",
    "        self.p=self.get_fibonacci_number(k-1)\n",
    "        self.q=self.get_fibonacci_number(k-2)\n",
    "    def up_index(self):\n",
    "        if self.p==1:\n",
    "            self.stop=True\n",
    "        self.i=self.i+self.q\n",
    "        self.p=self.p-self.q\n",
    "        self.q=self.q-self.p\n",
    "    def down_index(self):\n",
    "        if self.q==0:\n",
    "            self.stop=True\n",
    "        self.i=self.i-self.q\n",
    "        temp=self.q\n",
    "        self.q=self.p-self.q\n",
    "        self.p=temp\n",
    "    def search (self, sequince, element):\n",
    "        self.start_init(sequince)\n",
    "        result_index=-1\n",
    "        while not self.stop:\n",
    "            if self.i<0:\n",
    "                self.up_index()\n",
    "            elif self.i>=len(sequince):\n",
    "                    self.down_index()\n",
    "            elif sequince[self.i]==element:\n",
    "                result_index=self.i\n",
    "                break\n",
    "            elif element < sequince[self.i]:\n",
    "                self.down_index()\n",
    "            elif element > sequince[self.i]:\n",
    "                self.up_index()\n",
    "                return result_index\n",
    "sequince = [-2, 0, 3, 5, 7, 9, 11, 15, 18, 21]\n",
    "fs=FibonacciSearch()\n",
    "element= 1\n",
    "print(fs.search(sequince, element))"
   ]
  },
  {
   "cell_type": "markdown",
   "metadata": {},
   "source": [
    "### Интерполяционный поиск"
   ]
  },
  {
   "cell_type": "code",
   "execution_count": 47,
   "metadata": {},
   "outputs": [
    {
     "name": "stdout",
     "output_type": "stream",
     "text": [
      "7\n"
     ]
    }
   ],
   "source": [
    "def interpolation_search(sequince, element):\n",
    "    l=0\n",
    "    r=len(sequince)-1\n",
    "    while sequince[l]<element and sequince[r]>element:\n",
    "        if sequince[l]==sequince[r]:\n",
    "            break\n",
    "        index=(element-sequince[l])*(l-r)//(sequince[l]-sequince[r])+l\n",
    "        if sequince[index]> element:\n",
    "            r = index-l\n",
    "        elif sequince[index]<element:\n",
    "            l = index+l\n",
    "        else:\n",
    "            return index\n",
    "    if sequince[l]==element:\n",
    "        return l\n",
    "    if sequince[r]==element:\n",
    "        return r\n",
    "    return -1\n",
    "sequince=[-2, 0, 3, 5 ,7 ,9, 11, 15, 18]\n",
    "\n",
    "element = 15\n",
    "\n",
    "print(interpolation_search(sequince, element))"
   ]
  },
  {
   "cell_type": "code",
   "execution_count": null,
   "metadata": {},
   "outputs": [],
   "source": []
  }
 ],
 "metadata": {
  "kernelspec": {
   "display_name": "Python 3",
   "language": "python",
   "name": "python3"
  },
  "language_info": {
   "codemirror_mode": {
    "name": "ipython",
    "version": 3
   },
   "file_extension": ".py",
   "mimetype": "text/x-python",
   "name": "python",
   "nbconvert_exporter": "python",
   "pygments_lexer": "ipython3",
   "version": "3.8.5"
  }
 },
 "nbformat": 4,
 "nbformat_minor": 4
}
