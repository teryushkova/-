{
 "cells": [
  {
   "cell_type": "markdown",
   "metadata": {},
   "source": [
    "# Лабораторная работа №4"
   ]
  },
  {
   "cell_type": "markdown",
   "metadata": {},
   "source": [
    "# Реализация стека/дека."
   ]
  },
  {
   "cell_type": "markdown",
   "metadata": {},
   "source": [
    "## Выполнила студентка группы БСТ1903 Терюшкова К.С."
   ]
  },
  {
   "cell_type": "markdown",
   "metadata": {},
   "source": [
    "# Задание "
   ]
  },
  {
   "cell_type": "markdown",
   "metadata": {},
   "source": [
    "## Реализовать следующие структуры данных:"
   ]
  },
  {
   "cell_type": "markdown",
   "metadata": {},
   "source": [
    "### ● Стек (stack):"
   ]
  },
  {
   "cell_type": "markdown",
   "metadata": {},
   "source": [
    "#### операции для стека: инициализация, проверка на пустоту, добавление нового элемента в начало, извлечение элемента из начала;"
   ]
  },
  {
   "cell_type": "markdown",
   "metadata": {},
   "source": [
    "### ● Дек (двусторонняя очередь, deque):"
   ]
  },
  {
   "cell_type": "markdown",
   "metadata": {},
   "source": [
    "#### операции для дека: инициализация, проверка на пустоту, добавление нового элемента в начало, добавление нового элемента в конец, извлечение элемента из начала, извлечение элемента из конца."
   ]
  },
  {
   "cell_type": "markdown",
   "metadata": {},
   "source": [
    "#### Разработать программу обработки данных, содержащихся в заранее подготовленном txt-файле, в соответствии с заданиями, применив указанную в задании структуру данных. Результат работы программы вывести на экран и сохранить в отдельном txt-файле."
   ]
  },
  {
   "cell_type": "markdown",
   "metadata": {},
   "source": [
    "## СТЕК"
   ]
  },
  {
   "cell_type": "code",
   "execution_count": 4,
   "metadata": {},
   "outputs": [],
   "source": [
    "## Верхний элемент стека находится в конце списка\n",
    "class Stack:\n",
    "    ## Создание списка\n",
    "    def __init__(self):\n",
    "         self.items = []\n",
    "    ## Проверка на наличие элементов с списке       \n",
    "    def isEmpty(self):\n",
    "         return len(self.items)==0\n",
    "    ## Рост стека, добавление элемента в конец списка    \n",
    "    def push(self, item):\n",
    "         self.items.append(item)\n",
    "    ## Списковый метод, который удаляет последний элемент списка        \n",
    "    def pop(self):\n",
    "         return self.items.pop()\n",
    "    ## Возвращает последний элемент    \n",
    "    def peek(self):\n",
    "        if self.isEmpty():\n",
    "            return None\n",
    "        else:\n",
    "            return self.items[-1]\n",
    "    ## Возращает длину списка   \n",
    "    def __len__(self):\n",
    "         return len(self.items)"
   ]
  },
  {
   "cell_type": "markdown",
   "metadata": {},
   "source": [
    "## ДЕК"
   ]
  },
  {
   "cell_type": "code",
   "execution_count": 6,
   "metadata": {},
   "outputs": [],
   "source": [
    "class Deque:\n",
    "    ## Создание списка\n",
    "    def __init__(self):\n",
    "        self.items = []\n",
    "    ## Проверка на пустоту\n",
    "    def isEmpty(self):\n",
    "        return len(self.items)==0\n",
    "    ## Добавление элементов вправо\n",
    "    def add_Right(self, item):\n",
    "        self.items.append(item)\n",
    "    ## Добавление элементов влево    \n",
    "    def add_Left(self, item):\n",
    "        self.items.insert(0,item)\n",
    "    ## Удаление первого элемента списка    \n",
    "    def removeRight(self):\n",
    "        return self.items.pop()\n",
    "    ## Удаление последнего элемента списка\n",
    "    def removeLeft(self):\n",
    "        return self.items.pop(0)\n",
    "    ## Возвращает первый элемент\n",
    "    def peek_left(self):\n",
    "        if self.isEmpty():\n",
    "            return None\n",
    "        else:\n",
    "            return self.items[0]\n",
    "    ## Возвращает последний элемент\n",
    "    def peek_right(self):\n",
    "        if self.isEmpty():\n",
    "            return None\n",
    "        else:\n",
    "            return self.items[-1]\n",
    "    ## Возвращает длину списка\n",
    "    def __len__(self):\n",
    "        return len(self.items)"
   ]
  },
  {
   "cell_type": "markdown",
   "metadata": {},
   "source": [
    "### Запись в файл"
   ]
  },
  {
   "cell_type": "code",
   "execution_count": 9,
   "metadata": {},
   "outputs": [],
   "source": [
    "import copy\n",
    "import codecs\n",
    "#чтение и запись в файл\n",
    "\n",
    "# Вывод из файла в стек\n",
    "def add_with_Stack(file):\n",
    "    st=Stack()\n",
    "    try:\n",
    "        f=open(file,'r', encoding=\"utf-8\")\n",
    "        t=f.readlines()\n",
    "        f.close()\n",
    "        for i in range(len(t)):\n",
    "            st.add(t[i])\n",
    "        return st\n",
    "    except:\n",
    "        print(\"Ошибка, не удалось найти файл\")\n",
    "\n",
    "        \n",
    "# Вывод файла в переменную типа string\n",
    "def add_with_str(file):\n",
    "    rez=\"\"\n",
    "    try:\n",
    "        f=codecs.open(file+'.txt', 'r', encoding='utf-8')\n",
    "        t=f.readlines()\n",
    "        f.close()\n",
    "        for i in range(len(t)):\n",
    "            rez=rez+t[i]\n",
    "        return rez\n",
    "    except:\n",
    "        print(\"Ошибка, не удалось найти файл\")\n",
    "        \n",
    "# Вывод из файла в дек\n",
    "def add_with_Deque(file):\n",
    "    st = Deque()\n",
    "    try:\n",
    "        f=codecs.open(file+'.txt', 'r', encoding='utf-8')\n",
    "        t=f.readlines()\n",
    "        f.close()\n",
    "        for i in range(len(t)):\n",
    "            st.add_Left(t[i])\n",
    "        return st\n",
    "    except:\n",
    "        print(\"Ошибка, не удалось найти файл\")\n",
    "\n",
    "# Запись из дека в файл\n",
    "def add_file(file, Deque):\n",
    "    try:\n",
    "        f=open(file,\"w\", encoding=\"utf-8\")\n",
    "        while not Deque.isEmpty():\n",
    "            f.write(Deque.removeLeft())\n",
    "        f.close()\n",
    "    except:\n",
    "        print(\"Ошибка\")\n",
    "        return None\n",
    "\n",
    "def add_file_Stack(file, Stack):\n",
    "    try:\n",
    "        f=open(file,'w', encoding=\"utf-8\")\n",
    "        while not Stack.isEmpty():\n",
    "            f.write(Stack.pop())\n",
    "        f.close()\n",
    "    except:\n",
    "        print(\"Ошибка\")\n",
    "        return None\n",
    "\n",
    "# Ввод из переменной в файл\n",
    "def add_file_str(file, text):\n",
    "    try:\n",
    "        f=open(file+'.txt',\"w\", encoding=\"utf-8\")\n",
    "        f.write(text)\n",
    "        f.close()\n",
    "    except:\n",
    "        print(\"Ошибка\")\n",
    "        return None"
   ]
  },
  {
   "cell_type": "markdown",
   "metadata": {},
   "source": [
    "## Задание № 1"
   ]
  },
  {
   "cell_type": "markdown",
   "metadata": {},
   "source": [
    "#### Отсортировать строки файла, содержащие названия книг, в алфавитном порядке с использованием двух деков"
   ]
  },
  {
   "cell_type": "code",
   "execution_count": 98,
   "metadata": {},
   "outputs": [
    {
     "name": "stdout",
     "output_type": "stream",
     "text": [
      "<__main__.Deque object at 0x0000021C70C54280>\n",
      "Белая гвардия, М Булгаков\n",
      "\n",
      "Братья Карамазовы, Ф Достоевский\n",
      "\n",
      "Война и мир, Л Толстой\n",
      "\n",
      "Два капитана, В Каверин\n",
      "\n",
      "Мастер и Маргарита, М Булгаков\n",
      "Мертвые души, Н Гоголь\n",
      "\n",
      "Преступление и наказание, Ф Достоевский\n",
      "\n",
      "Собачье сердце, М Булгаков\n",
      "\n",
      "Тихий Дон, М Шолохов\n",
      "\n",
      "Человек-амфибия, А Беляев\n",
      "\n"
     ]
    }
   ],
   "source": [
    "def Task_1(file_res, file_rezult):\n",
    "    st1=add_with_Deque(file_res)\n",
    "    if st1==None:\n",
    "        return\n",
    "    st2= Deque()\n",
    "    while not st1.isEmpty():\n",
    "        el=st1.removeLeft()\n",
    "        while not st2.isEmpty() and st2.peek_left()<el:\n",
    "            st1.add_Right(st2.removeLeft())\n",
    "        st2.add_Left(el)\n",
    "    \n",
    "    add_file(file_rezult, copy.deepcopy(st2))\n",
    "    return st2\n",
    "            \n",
    "print(Task_1('data','resultat'))\n",
    "r=Task_1(file_one, file_two)\n",
    "if r is not None:\n",
    "    while not r.isEmpty():\n",
    "        print(r.removeLeft())"
   ]
  },
  {
   "cell_type": "markdown",
   "metadata": {},
   "source": [
    "# Задание № 2"
   ]
  },
  {
   "cell_type": "markdown",
   "metadata": {},
   "source": [
    "#### Дек содержит последовательность символов для шифровки сообщений. Дан текстовый файл, содержащий зашифрованное сообщение. Пользуясь деком, расшифровать текст. Известно, что при шифровке каждый символ сообщения заменялся следующим за ним в деке по часовой стрелке через один."
   ]
  },
  {
   "cell_type": "code",
   "execution_count": 162,
   "metadata": {},
   "outputs": [
    {
     "data": {
      "text/plain": [
       "47"
      ]
     },
     "execution_count": 162,
     "metadata": {},
     "output_type": "execute_result"
    }
   ],
   "source": [
    "def Task_2(file_name):\n",
    "    file = open(file_name, encoding='utf-8')\n",
    "\n",
    "    deque_t2_encoder = Deque()\n",
    "# формируем дек\n",
    "    for i in range(32):\n",
    "        deque_t2_encoder.add_Right(str(ord(\"а\") + i))\n",
    "        deque_t2_encoder.add_Right(str(ord(\" \")))\n",
    "\n",
    "    s_message = ''\n",
    "    for line in file:\n",
    "        for sym in line:\n",
    "            while sym != chr(int(deque_t2_encoder.peek_right())):\n",
    "                deque_t2_encoder.add_Left(deque_t2_encoder.removeRight())\n",
    "\n",
    "            deque_t2_encoder.add_Left(deque_t2_encoder.removeRight())\n",
    "            deque_t2_encoder.add_Left(deque_t2_encoder.removeRight())\n",
    "            s_message += chr(int(deque_t2_encoder.peek_right()))\n",
    "        return s_message\n",
    "\n",
    "s_message = Task_2('shifr.txt')\n",
    "\n",
    "file = open('shifr', 'w')\n",
    "\n",
    "file.write(s_message)"
   ]
  },
  {
   "cell_type": "markdown",
   "metadata": {},
   "source": [
    "# Задание № 3"
   ]
  },
  {
   "cell_type": "markdown",
   "metadata": {},
   "source": [
    "#### Даны три стержня и n дисков различного размера. Диски можно надевать на стержни, образуя из них башни. Перенести n дисков со стержня А на стержень С, сохранив их первоначальный порядок. При переносе дисков необходимо соблюдать следующие правила:\n",
    "###### на каждом шаге со стержня на стержень переносить только один диск;\n",
    "###### диск нельзя помещать на диск меньшего размера;\n",
    "###### для промежуточного хранения можно использовать стержень В. \n",
    "#### Реализовать алгоритм, используя три стека вместо стержней А, В, С. Информация о дисках хранится в исходном файле."
   ]
  },
  {
   "cell_type": "code",
   "execution_count": 157,
   "metadata": {},
   "outputs": [
    {
     "name": "stdout",
     "output_type": "stream",
     "text": [
      "15\n",
      "10\n",
      "3\n",
      "2\n",
      "1\n",
      "\n"
     ]
    },
    {
     "ename": "ValueError",
     "evalue": "invalid literal for int() with base 10: ''",
     "output_type": "error",
     "traceback": [
      "\u001b[1;31m---------------------------------------------------------------------------\u001b[0m",
      "\u001b[1;31mValueError\u001b[0m                                Traceback (most recent call last)",
      "\u001b[1;32m<ipython-input-157-4ce0a7ffd575>\u001b[0m in \u001b[0;36m<module>\u001b[1;34m\u001b[0m\n\u001b[0;32m     38\u001b[0m     \u001b[1;32mfor\u001b[0m \u001b[0mi\u001b[0m \u001b[1;32min\u001b[0m \u001b[0mrange\u001b[0m\u001b[1;33m(\u001b[0m\u001b[0mlen\u001b[0m\u001b[1;33m(\u001b[0m\u001b[0mC\u001b[0m\u001b[1;33m)\u001b[0m\u001b[1;33m)\u001b[0m\u001b[1;33m:\u001b[0m\u001b[1;33m\u001b[0m\u001b[1;33m\u001b[0m\u001b[0m\n\u001b[0;32m     39\u001b[0m             \u001b[0mprint\u001b[0m\u001b[1;33m(\u001b[0m\u001b[0mC\u001b[0m\u001b[1;33m.\u001b[0m\u001b[0mpop\u001b[0m\u001b[1;33m(\u001b[0m\u001b[1;33m)\u001b[0m\u001b[1;33m)\u001b[0m\u001b[1;33m\u001b[0m\u001b[1;33m\u001b[0m\u001b[0m\n\u001b[1;32m---> 40\u001b[1;33m \u001b[0mzadanie_3\u001b[0m\u001b[1;33m(\u001b[0m\u001b[1;34m'diski'\u001b[0m\u001b[1;33m)\u001b[0m\u001b[1;33m\u001b[0m\u001b[1;33m\u001b[0m\u001b[0m\n\u001b[0m",
      "\u001b[1;32m<ipython-input-157-4ce0a7ffd575>\u001b[0m in \u001b[0;36mzadanie_3\u001b[1;34m(file)\u001b[0m\n\u001b[0;32m     20\u001b[0m     \u001b[1;32mfor\u001b[0m \u001b[0mi\u001b[0m \u001b[1;32min\u001b[0m \u001b[0mrange\u001b[0m\u001b[1;33m(\u001b[0m\u001b[0mlen\u001b[0m\u001b[1;33m(\u001b[0m\u001b[0mdisk\u001b[0m\u001b[1;33m)\u001b[0m\u001b[1;33m)\u001b[0m\u001b[1;33m:\u001b[0m\u001b[1;33m\u001b[0m\u001b[1;33m\u001b[0m\u001b[0m\n\u001b[0;32m     21\u001b[0m         \u001b[0mprint\u001b[0m\u001b[1;33m(\u001b[0m\u001b[0mdisk\u001b[0m\u001b[1;33m[\u001b[0m\u001b[0mi\u001b[0m\u001b[1;33m]\u001b[0m\u001b[1;33m)\u001b[0m\u001b[1;33m\u001b[0m\u001b[1;33m\u001b[0m\u001b[0m\n\u001b[1;32m---> 22\u001b[1;33m         \u001b[0mA\u001b[0m\u001b[1;33m.\u001b[0m\u001b[0mpush\u001b[0m\u001b[1;33m(\u001b[0m\u001b[0mint\u001b[0m\u001b[1;33m(\u001b[0m\u001b[0mdisk\u001b[0m\u001b[1;33m[\u001b[0m\u001b[0mi\u001b[0m\u001b[1;33m]\u001b[0m\u001b[1;33m)\u001b[0m\u001b[1;33m)\u001b[0m\u001b[1;33m\u001b[0m\u001b[1;33m\u001b[0m\u001b[0m\n\u001b[0m\u001b[0;32m     23\u001b[0m     \u001b[0mprint\u001b[0m\u001b[1;33m(\u001b[0m\u001b[1;34m\"len\"\u001b[0m\u001b[1;33m,\u001b[0m\u001b[0mlen\u001b[0m\u001b[1;33m(\u001b[0m\u001b[0mdisk\u001b[0m\u001b[1;33m)\u001b[0m\u001b[1;33m)\u001b[0m\u001b[1;33m\u001b[0m\u001b[1;33m\u001b[0m\u001b[0m\n\u001b[0;32m     24\u001b[0m     \u001b[1;32mif\u001b[0m \u001b[0mlen\u001b[0m\u001b[1;33m(\u001b[0m\u001b[0mdisk\u001b[0m\u001b[1;33m)\u001b[0m\u001b[1;33m%\u001b[0m\u001b[1;36m2\u001b[0m\u001b[1;33m==\u001b[0m\u001b[1;36m0\u001b[0m\u001b[1;33m:\u001b[0m\u001b[1;33m\u001b[0m\u001b[1;33m\u001b[0m\u001b[0m\n",
      "\u001b[1;31mValueError\u001b[0m: invalid literal for int() with base 10: ''"
     ]
    }
   ],
   "source": [
    "def move(a,b):\n",
    "    if a.isEmpty() and not b.isEmpty():\n",
    "        a.push(b.pop())\n",
    "    elif  not a.isEmpty() and b.isEmpty():\n",
    "        b.push(a.pop())\n",
    "    elif a.isEmpty() and b.isEmpty():\n",
    "        return\n",
    "    elif a.peek()>b.peek():\n",
    "        a.push(b.pop())\n",
    "    else:\n",
    "        b.push(a.pop())       \n",
    "def Task_3(file):\n",
    "    A=Stack()\n",
    "    B=Stack()\n",
    "    C=Stack()\n",
    "    st=add_with_str(file)\n",
    "    if st is None:\n",
    "        return\n",
    "    disk=st.split(\" \")\n",
    "    for i in range(len(disk)):\n",
    "        print(disk[i])\n",
    "        A.push(int(disk[i]))\n",
    "    print(\"len\",len(disk))   \n",
    "    if len(disk)%2==0:\n",
    "        while len(C) is not len(disk):\n",
    "            move(A, B)\n",
    "            move(A, C)\n",
    "            if len(C) is not len(disk):\n",
    "                move(B, C)\n",
    "    else:\n",
    "        while len(C) is not len(disk):\n",
    "            move(A, C)\n",
    "            move(A, B)\n",
    "            if len(C) is not len(disk):\n",
    "                move(B, C)\n",
    "                \n",
    "    print(len(A), len(B), len(C))\n",
    "    for i in range(len(C)):\n",
    "            print(C.pop())    \n",
    "Task_3('diski')"
   ]
  },
  {
   "cell_type": "markdown",
   "metadata": {},
   "source": [
    "# Задание № 4"
   ]
  },
  {
   "cell_type": "markdown",
   "metadata": {},
   "source": [
    "#### `Дан текстовый файл с программой на алгоритмическом языке. За один просмотр файла проверить баланс круглых скобок в тексте, используя стек.\n"
   ]
  },
  {
   "cell_type": "code",
   "execution_count": 150,
   "metadata": {},
   "outputs": [
    {
     "name": "stdout",
     "output_type": "stream",
     "text": [
      "True\n"
     ]
    }
   ],
   "source": [
    "def Task_4(file):\n",
    "    s=Stack()\n",
    "    st=add_with_str(file)\n",
    "    if st is None:\n",
    "        return\n",
    "    for i in st:\n",
    "        if i=='(':\n",
    "            s.push(i)\n",
    "        elif i==')':\n",
    "            if s.isEmpty():\n",
    "                return False\n",
    "            s.pop()\n",
    "    return s.isEmpty()\n",
    "print(Task_4('parentheses'))"
   ]
  },
  {
   "cell_type": "markdown",
   "metadata": {},
   "source": [
    "# Задание № 5"
   ]
  },
  {
   "cell_type": "markdown",
   "metadata": {},
   "source": [
    "#### Дан текстовый файл с программой на алгоритмическом языке. За один просмотр файла проверить баланс квадратных скобок в тексте, используя дек."
   ]
  },
  {
   "cell_type": "code",
   "execution_count": 33,
   "metadata": {},
   "outputs": [
    {
     "name": "stdout",
     "output_type": "stream",
     "text": [
      "True\n"
     ]
    }
   ],
   "source": [
    "def Task_5(file):\n",
    "    s = Deque()\n",
    "    st = add_with_str(file)\n",
    "    if st is None:\n",
    "        return\n",
    "    for i in st:\n",
    "        if i=='[':\n",
    "            s.add_Right(i)\n",
    "        elif i==']':\n",
    "            if s.isEmpty():\n",
    "                return False\n",
    "            s.removeLeft()\n",
    "    return s.isEmpty()\n",
    "print(Task_5('squarebrackets'))"
   ]
  },
  {
   "cell_type": "markdown",
   "metadata": {},
   "source": [
    "# Задание № 6"
   ]
  },
  {
   "cell_type": "markdown",
   "metadata": {},
   "source": [
    "#### Дан файл из символов. Используя стек, за один просмотр файла напечатать сначала все цифры, затем все буквы, и, наконец, все остальные символы, сохраняя исходный порядок в каждой группе символов."
   ]
  },
  {
   "cell_type": "code",
   "execution_count": 39,
   "metadata": {},
   "outputs": [
    {
     "name": "stdout",
     "output_type": "stream",
     "text": [
      "Цифры, содержащиеся в тексте:\n",
      "1234567890\n",
      "Буквы, содержащиеся в тексте:\n",
      "qwertyuiop\n",
      "Другие символы, содержащиеся в тексте:\n",
      "[-\"{??:}}\"?{\n"
     ]
    }
   ],
   "source": [
    "def Task_6(file):\n",
    "    cifri = Stack()\n",
    "    bukvi = Stack()\n",
    "    symbols = Stack()\n",
    "    st=add_with_str(file)\n",
    "    if st is None:\n",
    "        return\n",
    "    i=len(st)-1\n",
    "    while i>=0:\n",
    "        if st[i].isalpha():\n",
    "            bukvi.push(st[i])\n",
    "        elif st[i].isdigit():\n",
    "            cifri.push(st[i])\n",
    "        else:\n",
    "            symbols.push(st[i])\n",
    "        i=i-1\n",
    "    print(\"Цифры, содержащиеся в тексте:\")\n",
    "    d=\"\"\n",
    "    \n",
    "    while not cifri.isEmpty():\n",
    "        d=d+cifri.pop()\n",
    "    print(d)\n",
    "    d=\"\"\n",
    "    print(\"Буквы, содержащиеся в тексте:\")\n",
    "    while not bukvi.isEmpty():\n",
    "        d=d+bukvi.pop()\n",
    "    print(d)\n",
    "    d=\"\"\n",
    "    print(\"Другие символы, содержащиеся в тексте:\")\n",
    "    while not symbols.isEmpty():\n",
    "        d=d+symbols.pop()\n",
    "    print(d)\n",
    "Task_6('symbol')"
   ]
  },
  {
   "cell_type": "markdown",
   "metadata": {},
   "source": [
    "# Задание № 7"
   ]
  },
  {
   "cell_type": "markdown",
   "metadata": {},
   "source": [
    "#### Дан файл из целых чисел. Используя дек, за один просмотр файла напечатать сначала все отрицательные числа, затем все положительные числа, сохраняя исходный порядок в каждой группе."
   ]
  },
  {
   "cell_type": "code",
   "execution_count": 53,
   "metadata": {},
   "outputs": [
    {
     "name": "stdout",
     "output_type": "stream",
     "text": [
      "-960\n",
      "-6771\n",
      "-171\n",
      "-2876\n",
      "1566\n",
      "4648\n",
      "2310\n",
      "4327\n"
     ]
    }
   ],
   "source": [
    "def Task_7(file):\n",
    "    rez = Deque()\n",
    "    st = add_with_str(file)\n",
    "    if st is None:\n",
    "        return\n",
    "    mas = st.split(\" \")\n",
    "    mas_ = list()\n",
    "    for i in mas:\n",
    "        mas_.append(int(i))\n",
    "    for i in mas_:\n",
    "        ##print(i)\n",
    "        if i>= 0:\n",
    "            rez.add_Right(i)\n",
    "        else:\n",
    "            if rez.isEmpty and rez.peek_left()>=0:\n",
    "                rez.add_Left(i)\n",
    "            else:\n",
    "                while rez.peek_left() < 0:\n",
    "                    rez.add_Right(rez.removeLeft())\n",
    "                rez.add_Left(i)\n",
    "                while rez.peek_right() < 0:\n",
    "                    rez.add_Left(rez.removeRight())\n",
    "                \n",
    "    while not rez.isEmpty():\n",
    "        print(rez.removeLeft())\n",
    "Task_7('chisla')"
   ]
  },
  {
   "cell_type": "markdown",
   "metadata": {},
   "source": [
    "# Задание № 8"
   ]
  },
  {
   "cell_type": "markdown",
   "metadata": {},
   "source": [
    "#### Дан текстовый файл. Используя стек, сформировать новый текстовый файл, содержащий строки исходного файла, записанные в обратном порядке: первая строка становится последней, вторая – предпоследней и т.д."
   ]
  },
  {
   "cell_type": "code",
   "execution_count": 78,
   "metadata": {},
   "outputs": [
    {
     "name": "stdout",
     "output_type": "stream",
     "text": [
      "4. Lemon  \n",
      "4. Lemon  3. Apple  \n",
      "\n",
      "4. Lemon  3. Apple  \n",
      "2. Bluberry  \n",
      "\n",
      "4. Lemon  3. Apple  \n",
      "2. Bluberry  \n",
      "1. Melon  \n",
      "\n"
     ]
    }
   ],
   "source": [
    "def Task_8(txt):\n",
    "    s = Stack()\n",
    "    for line in txt:\n",
    "        s.push(line)\n",
    "        ss = \"\"\n",
    "    for _ in range(len(txt)):\n",
    "        ss += s.pop()\n",
    "\n",
    "        print(ss)\n",
    "\n",
    "Task_8(list(open(\"akorts.txt\")))"
   ]
  },
  {
   "cell_type": "markdown",
   "metadata": {},
   "source": [
    "# Задание № 9"
   ]
  },
  {
   "cell_type": "markdown",
   "metadata": {},
   "source": [
    "#### Дан текстовый файл. Используя стек, вычислить значение логического выражения, записанного в текстовом файле в следующей форме: < ЛВ > ::= T | F | (N) | (A) | (X) | (O), где буквами обозначены логические константы и операции: T – True, F – False, N – Not, A – And, X – Xor, O – Or."
   ]
  },
  {
   "cell_type": "code",
   "execution_count": 160,
   "metadata": {},
   "outputs": [
    {
     "name": "stdout",
     "output_type": "stream",
     "text": [
      "T\n",
      "F\n",
      "T\n",
      "F\n"
     ]
    }
   ],
   "source": [
    "def Task_9(file):\n",
    "    opstek=Stack()\n",
    "    vstek=Stack()\n",
    "    st=file\n",
    "    i=0\n",
    "    while i<len(st):\n",
    "        \n",
    "        if st[i]=='(':\n",
    "            vstek.push(st[i])\n",
    "            i=i+1\n",
    "        elif st[i]==')':\n",
    "            vstek.pop()\n",
    "            i=i+1\n",
    "        elif st[i]=='N' or st[i]=='A' or st[i]=='X' or st[i]=='O':\n",
    "            vstek.push(st[i])\n",
    "            i=i+1\n",
    "            continue\n",
    "        elif st[i]=='T':\n",
    "            opstek.push(st[i])\n",
    "            i=i+1\n",
    "        elif st[i]=='F':\n",
    "            opstek.push(st[i])\n",
    "            i=i+1              \n",
    "        if vstek.peek()=='A':\n",
    "            \n",
    "            \n",
    "            a=opstek.pop()\n",
    "            b=opstek.pop()\n",
    "            \n",
    "            if a=='T' and b =='T':\n",
    "                opstek.push('T')\n",
    "            else:\n",
    "                opstek.push('F')\n",
    "            vstek.pop()\n",
    "                \n",
    "        elif vstek.peek()=='X':\n",
    "            a=opstek.pop()\n",
    "            b=opstek.pop()\n",
    "            if (a=='T' and b =='T') or (a=='F' and b =='F'):\n",
    "                opstek.push('F')\n",
    "            else:\n",
    "                opstek.push('T')\n",
    "            vstek.pop()\n",
    "                \n",
    "        elif vstek.peek()=='O':\n",
    "            a=opstek.pop()\n",
    "            b=opstek.pop()\n",
    "            if a=='T' or b=='T':\n",
    "                opstek.push('T')\n",
    "            else:\n",
    "                opstek.push('F')\n",
    "            vstek.pop()\n",
    "        elif vstek.peek()=='N':\n",
    "            a=opstek.pop()\n",
    "            if a=='T':\n",
    "                opstek.push('F')\n",
    "            else:\n",
    "                opstek.push('T')\n",
    "            vstek.pop()\n",
    "                    \n",
    "    print(opstek.pop())\n",
    "                    \n",
    "                    \n",
    "             \n",
    "Task_9('TOF')\n",
    "Task_9('TAF')\n",
    "Task_9('((F)XF)X(FAT)OT')\n",
    "Task_9('((F)XF)A(FAT)OF')"
   ]
  },
  {
   "cell_type": "markdown",
   "metadata": {},
   "source": [
    "# Задание № 10"
   ]
  },
  {
   "cell_type": "markdown",
   "metadata": {},
   "source": [
    "#### Дан текстовый файл. В текстовом файле записана формула следующего вида: ::= | M(,) | N(Формула>,) < Цифра > ::= 0 | 1 | 2 | 3 | 4 | 5 | 6 | 7 | 8 | 9 где буквами обозначены функции: M – определение максимума, N – определение минимума. Используя стек, вычислить значение заданного выражения."
   ]
  },
  {
   "cell_type": "code",
   "execution_count": 101,
   "metadata": {},
   "outputs": [
    {
     "name": "stdout",
     "output_type": "stream",
     "text": [
      "114\n"
     ]
    }
   ],
   "source": [
    "def Task_10(st):\n",
    "    op = Stack()\n",
    "    nums = Stack()\n",
    "    file=add_with_str(st)\n",
    "    num = ''\n",
    "    cur = 0\n",
    "    while cur < len(file):\n",
    "        i = file[cur]\n",
    "        if i.isdigit():\n",
    "            num += i\n",
    "        elif num != '':\n",
    "            nums.push(int(num))\n",
    "            num = ''\n",
    "        if i in 'MN':\n",
    "            op.push(i)\n",
    "        cur += 1\n",
    "\n",
    "    while not op.isEmpty():\n",
    "        a = nums.pop()\n",
    "        b = nums.pop()\n",
    "        if a < b:\n",
    "            a,b = b,a\n",
    "        if op.pop() == 'M':\n",
    "            nums.push(a)\n",
    "        else:\n",
    "            nums.push(b)\n",
    "\n",
    "    while not nums.isEmpty():\n",
    "        print(nums.pop())\n",
    "Task_10('formula')"
   ]
  },
  {
   "cell_type": "markdown",
   "metadata": {},
   "source": [
    "# Задание № 11"
   ]
  },
  {
   "cell_type": "markdown",
   "metadata": {},
   "source": [
    "#### Дан текстовый файл. Используя стек, проверить, является ли содержимое текстового файла правильной записью формулы вида: < Формула > ::= < Терм > | < Терм > + < Формула > | < Терм > - < Формула > < Терм > ::= < Имя > | (< Формула >) < Имя > ::= x | y | z"
   ]
  },
  {
   "cell_type": "code",
   "execution_count": 161,
   "metadata": {},
   "outputs": [
    {
     "data": {
      "text/plain": [
       "True"
      ]
     },
     "execution_count": 161,
     "metadata": {},
     "output_type": "execute_result"
    }
   ],
   "source": [
    "def Task_11(file):\n",
    "    steks= Stack()\n",
    "    #st=add_with_str(file)\n",
    "    st=file\n",
    "    for i in range(len(st)):\n",
    "        if st[i]=='(':\n",
    "            steks.push(st[i])\n",
    "        elif st[i]==')':\n",
    "            s=steks.pop()\n",
    "            steks.pop()\n",
    "            steks.push(s)\n",
    "        elif st[i] in '+-':\n",
    "            if steks.peek()=='name' or steks.peek()=='formula':\n",
    "                steks.push(st[i])\n",
    "            else:\n",
    "                return False\n",
    "        elif st[i] in 'xyz':\n",
    "            \n",
    "            if (not steks.isEmpty()) and steks.peek() in '+-':\n",
    "                steks.pop()\n",
    "                steks.pop()\n",
    "                steks.push('formula')\n",
    "            else:\n",
    "                steks.push('name')\n",
    "        \n",
    "        if steks.peek()=='formula':\n",
    "            steks.pop()\n",
    "            if not steks.isEmpty():\n",
    "                if steks.peek() in '+-':\n",
    "                    steks.pop()\n",
    "                    steks.pop()\n",
    "            steks.push('formula')\n",
    "            \n",
    "    if len(steks)==1 and steks.pop()=='formula':\n",
    "        return True\n",
    "    else:\n",
    "        return False\n",
    "    \n",
    "Task_11('x+y+z')"
   ]
  },
  {
   "cell_type": "markdown",
   "metadata": {},
   "source": [
    "# Вывод"
   ]
  },
  {
   "cell_type": "markdown",
   "metadata": {},
   "source": [
    "#### В данной лабораторной работы были реализованы алгоритмы стека и дека и были разработаны разработать программы для обработки данных, результат которой представляется в txt-файле."
   ]
  }
 ],
 "metadata": {
  "kernelspec": {
   "display_name": "Python 3",
   "language": "python",
   "name": "python3"
  },
  "language_info": {
   "codemirror_mode": {
    "name": "ipython",
    "version": 3
   },
   "file_extension": ".py",
   "mimetype": "text/x-python",
   "name": "python",
   "nbconvert_exporter": "python",
   "pygments_lexer": "ipython3",
   "version": "3.8.5"
  }
 },
 "nbformat": 4,
 "nbformat_minor": 4
}
