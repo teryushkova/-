{
 "cells": [
  {
   "cell_type": "markdown",
   "metadata": {},
   "source": [
    "# Лабораторная работа №1\n",
    "## Выполнила студентка группы БСТ1903 Терюшкова К.С.\n",
    "### Задание №1"
   ]
  },
  {
   "cell_type": "code",
   "execution_count": null,
   "metadata": {},
   "outputs": [],
   "source": [
    "print(\"Hello, World!\") "
   ]
  },
  {
   "cell_type": "markdown",
   "metadata": {},
   "source": [
    "### Задание 2\n"
   ]
  },
  {
   "cell_type": "code",
   "execution_count": 11,
   "metadata": {},
   "outputs": [],
   "source": [
    "x=0"
   ]
  },
  {
   "cell_type": "code",
   "execution_count": 1,
   "metadata": {},
   "outputs": [
    {
     "name": "stdout",
     "output_type": "stream",
     "text": [
      "[[-133, 698, 393, 650, 822, -53, 920, 321, 892, 378], [849, -144, 462, 243, 203, 1017, -205, 124, 11, 256], [934, -222, 493, 174, -146, 471, 424, 230, 354, 143], [130, 864, 545, -225, 666, 634, 819, 336, 20, -145], [670, 295, -219, -141, 499, 847, -226, 158, 198, 568], [-95, 673, 146, 98, 2, 399, 918, 260, 618, 737], [399, 978, 77, 714, 95, 313, 833, 176, -15, -78], [429, -229, -193, 814, 209, 669, 403, -114, -85, 763], [767, -130, 884, 1006, 501, -239, 573, 411, 856, 98], [705, 23, 590, 287, -23, 292, 1018, 758, 827, -13]]\n"
     ]
    }
   ],
   "source": [
    "import random\n",
    "m=10\n",
    "n=10\n",
    "min_limit=-250\n",
    "max_limit=1019\n",
    "a=[[random.randint(min_limit,max_limit) for i in range(n)] for j in range (m)]\n",
    "x=a\n",
    "print(a)"
   ]
  },
  {
   "cell_type": "markdown",
   "metadata": {},
   "source": [
    "### Задание 3"
   ]
  },
  {
   "cell_type": "markdown",
   "metadata": {},
   "source": [
    "### Турнирная сортировка"
   ]
  },
  {
   "cell_type": "code",
   "execution_count": 16,
   "metadata": {},
   "outputs": [],
   "source": [
    "def tournament_sort(arr):\n",
    "    tree = [None] * 2 * (len(arr) + len(arr) % 2)\n",
    "    index = len(tree) - len(arr) - len(arr) % 2\n",
    "\n",
    "    for i, v in enumerate(arr):\n",
    "        tree[index + i] = (i, v)\n",
    "\n",
    "    for j in range(len(arr)):\n",
    "        n = len(arr)\n",
    "        index = len(tree) - len(arr) - len(arr) % 2\n",
    "        while index > -1:\n",
    "            n = (n + 1) // 2\n",
    "            for i in range(n):\n",
    "                i = max(index + i * 2, 1)\n",
    "                if tree[i] != None and tree[i + 1] != None:\n",
    "                    if tree[i][1] < tree[i + 1][1]:\n",
    "                        tree[i // 2] = tree[i]\n",
    "                else:\n",
    "                    tree[i // 2] = tree[i + 1]\n",
    "        else:\n",
    "            tree[i // 2] = tree[i] if tree[i] != None else tree[i + 1]\n",
    "        index -= n\n",
    "    \n",
    "    index, x = tree[0]\n",
    "    arr[j] = x\n",
    "    tree[len(tree) - len(arr) - len(arr) % 2 + index] = None\n"
   ]
  },
  {
   "cell_type": "markdown",
   "metadata": {},
   "source": [
    "### Сортировка выбором"
   ]
  },
  {
   "cell_type": "code",
   "execution_count": 13,
   "metadata": {},
   "outputs": [
    {
     "name": "stdout",
     "output_type": "stream",
     "text": [
      "45\n",
      "-237\n",
      "[-237, -222, -214, -191, -172, -172, -163, -149, -132, -123, -114, -35, -13, 38, 120, 121, 221, 247, 249, 284, 301, 377, 407, 409, 428, 472, 491, 601, 608, 630, 649, 652, 669, 670, 677, 681, 682, 718, 766, 772, 773, 785, 787, 792, 828, 845, 854, 889, 988, 989]\n"
     ]
    }
   ],
   "source": [
    "def find_smallest(arr):\n",
    "    smallest=arr[0]\n",
    "    smallest_index=0\n",
    "    for i in range(1, len(arr)):\n",
    "        if arr[i]<smallest:\n",
    "            smallest=arr[i]\n",
    "            smallest_index=i\n",
    "    return smallest_index\n",
    "def sel_sort(arr):\n",
    "    newArr=[]\n",
    "    for i in range(len(arr)):\n",
    "        smallest=find_smallest(arr)\n",
    "        newArr.append(arr.pop(smallest))\n",
    "    return newArr\n",
    "d=[773, 766, 407, 669, -222, -123, 409, -13, -172, 38, 377, 681, 121, -214, 284, -35, 608, -163, 845, 772, -172, -114, 785, 652, 787, 670, 472, -149, 221, 301, 682, 649, 828, 677, 120, 601, 249, 718, 989, 889, 988, 854, 792, 630, -191, -237, 491, 247, -132, 428] \n",
    "print(find_smallest(d))\n",
    "print(d[find_smallest(d)]) \n",
    "print(sel_sort(d))"
   ]
  },
  {
   "cell_type": "markdown",
   "metadata": {},
   "source": [
    "### Сортировка вставкой"
   ]
  },
  {
   "cell_type": "code",
   "execution_count": 14,
   "metadata": {},
   "outputs": [
    {
     "name": "stdout",
     "output_type": "stream",
     "text": [
      "[-237, -222, -214, -191, -172, -172, -163, -149, -132, -123, -114, -35, -13, 38, 120, 121, 221, 247, 249, 284, 301, 377, 407, 409, 428, 472, 491, 601, 608, 630, 649, 652, 669, 670, 677, 681, 682, 718, 766, 772, 773, 785, 787, 792, 828, 845, 854, 889, 988, 989]\n"
     ]
    }
   ],
   "source": [
    "def insertion_sort(array):\n",
    "\n",
    "    for i in range(len(array)):\n",
    "        n= array[i]  \n",
    "        while array[i - 1] > n and i > 0:\n",
    "            array[i] = array[i-1]\n",
    "            i -= 1\n",
    "        array[i] = n\n",
    "    return array\n",
    "array = insertion_sort(d)\n",
    "print (array)"
   ]
  },
  {
   "cell_type": "markdown",
   "metadata": {},
   "source": [
    "### Пирамидальная сортировка"
   ]
  },
  {
   "cell_type": "code",
   "execution_count": 7,
   "metadata": {},
   "outputs": [
    {
     "name": "stdout",
     "output_type": "stream",
     "text": [
      "[-237, -222, -214, -191, -172, -172, -163, -149, -132, -123, -114, -35, -13, 38, 120, 121, 221, 247, 249, 284, 301, 377, 407, 409, 428, 472, 491, 601, 608, 630, 649, 652, 669, 670, 677, 681, 682, 718, 766, 772, 773, 785, 787, 792, 828, 845, 854, 889, 988, 989]\n"
     ]
    }
   ],
   "source": [
    "def heapsort(alist):\n",
    "    build_max_heap(alist)\n",
    "    for i in range(len(alist) - 1, 0, -1):\n",
    "        alist[0], alist[i] = alist[i], alist[0]\n",
    "        max_heapify(alist, index=0, size=i)\n",
    "\n",
    "def parent(i):\n",
    "    return (i - 1)//2\n",
    " \n",
    "def left(i):\n",
    "    return 2*i + 1\n",
    " \n",
    "def right(i):\n",
    "    return 2*i + 2\n",
    " \n",
    "def build_max_heap(alist):\n",
    "    length = len(alist)\n",
    "    start = parent(length - 1)\n",
    "    while start >= 0:\n",
    "        max_heapify(alist, index=start, size=length)\n",
    "        start = start - 1\n",
    "\n",
    "def max_heapify(alist, index, size):\n",
    "    l = left(index)\n",
    "    r = right(index)\n",
    "    if (l < size and alist[l] > alist[index]):\n",
    "        largest = l\n",
    "    else:\n",
    "        largest = index\n",
    "    if (r < size and alist[r] > alist[largest]):\n",
    "        largest = r\n",
    "    if (largest != index):\n",
    "        alist[largest], alist[index] = alist[index], alist[largest]\n",
    "        max_heapify(alist, largest, size)\n",
    " \n",
    " \n",
    "alist = [773, 766, 407, 669, -222, -123, 409, -13, -172, 38, 377, 681, 121, -214, 284, -35, 608, -163, 845, 772, -172, -114, 785, 652, 787, 670, 472, -149, 221, 301, 682, 649, 828, 677, 120, 601, 249, 718, 989, 889, 988, 854, 792, 630, -191, -237, 491, 247, -132, 428] \n",
    "alist = [int(x) for x in alist]\n",
    "heapsort(alist)\n",
    "print(alist)"
   ]
  },
  {
   "cell_type": "markdown",
   "metadata": {},
   "source": [
    "### Быстрая сортировка"
   ]
  },
  {
   "cell_type": "code",
   "execution_count": 8,
   "metadata": {},
   "outputs": [
    {
     "name": "stdout",
     "output_type": "stream",
     "text": [
      "[[-237, -222, -214, -191, -172, -172, -163, -149, -132, -123, -114, -35, -13, 38, 120, 121, 221, 247, 249, 284, 301, 377, 407, 409, 428, 472, 491, 601, 608, 630, 649, 652, 669, 670, 677, 681, 682, 718, 766, 772, 773, 785, 787, 792, 828, 845, 854, 889, 988, 989]]\n"
     ]
    }
   ],
   "source": [
    "def quick_sort(array):\n",
    "    quik_sort_helper(array, 0, len(array)-1)\n",
    "    return array\n",
    "def quik_sort_helper(array, low, high):\n",
    "    if low< high:\n",
    "        split_point = partition(array, low, high)\n",
    "        quik_sort_helper(array, low, split_point-1)\n",
    "        quik_sort_helper(array, split_point+1, high)  \n",
    "def partition(array, low, high):\n",
    "    pivot_value=array(low)\n",
    "    left_mark=low+1\n",
    "    right_mark=high\n",
    "    done=False\n",
    "    while not done:\n",
    "        while left_mark<= right_mark and array[left_mark]<= pivot_value:\n",
    "            left_mark+=1\n",
    "        while right_mark >= left_mark and array[left_mark]>= pivot_value:\n",
    "            right_mark-=1\n",
    "        if right_mark < left_mark:\n",
    "            done =True\n",
    "        else:\n",
    "            array[left_mark], array[right_mark]= array[right_mark], array[left_mark]\n",
    "    array[low], array[right_mark] = array[right_mark], array[low]\n",
    "    return right_mark\n",
    "array=quick_sort([d])\n",
    "print(array)"
   ]
  },
  {
   "cell_type": "markdown",
   "metadata": {},
   "source": [
    "### Сортировка Шелла"
   ]
  },
  {
   "cell_type": "code",
   "execution_count": 13,
   "metadata": {},
   "outputs": [
    {
     "name": "stdout",
     "output_type": "stream",
     "text": [
      "[-237, -222, -214, -191, -172, -172, -163, -149, -132, -123, -114, -35, -13, 38, 120, 121, 221, 247, 249, 284, 301, 377, 407, 409, 428, 472, 491, 601, 608, 630, 649, 652, 669, 670, 677, 681, 682, 718, 766, 772, 773, 785, 787, 792, 828, 845, 854, 889, 988, 989]\n"
     ]
    }
   ],
   "source": [
    "def shell_sort(array):\n",
    "    n = len(array)\n",
    "    step = n//2\n",
    "    while step>0:\n",
    "        for i in range (step, n):\n",
    "            j = i\n",
    "            while j>= step and array[j]<array[j-step]:\n",
    "                array[j], array[j-step] =array[j-step], array[j]\n",
    "                j=j-step\n",
    "            step = step // 2\n",
    "array=d\n",
    "shell_sort(array)\n",
    "print(array)"
   ]
  },
  {
   "cell_type": "markdown",
   "metadata": {},
   "source": [
    "### Сортировка Обменом\n"
   ]
  },
  {
   "cell_type": "code",
   "execution_count": 10,
   "metadata": {
    "scrolled": true
   },
   "outputs": [
    {
     "name": "stdout",
     "output_type": "stream",
     "text": [
      "[-237, -222, -214, -191, -172, -172, -163, -149, -132, -123, -114, -35, -13, 38, 120, 121, 221, 247, 249, 284, 301, 377, 407, 409, 428, 472, 491, 601, 608, 630, 649, 652, 669, 670, 677, 681, 682, 718, 766, 772, 773, 785, 787, 792, 828, 845, 854, 889, 988, 989]\n"
     ]
    }
   ],
   "source": [
    "def bubble_sort(array):\n",
    "    last_item=len(array)-1\n",
    "    for z in range(0, last_item):\n",
    "        for x in range(0, last_item):\n",
    "            if array[x]>array[x+1]:\n",
    "                array[x], array[x+1]=array[x+1],array[x]\n",
    "    return array\n",
    "array=bubble_sort(d)            \n",
    "print(array) "
   ]
  },
  {
   "cell_type": "markdown",
   "metadata": {},
   "source": [
    "### Стандартная функция сортировки"
   ]
  },
  {
   "cell_type": "code",
   "execution_count": 11,
   "metadata": {},
   "outputs": [
    {
     "name": "stdout",
     "output_type": "stream",
     "text": [
      "[-237, -222, -214, -191, -172, -172, -163, -149, -132, -123, -114, -35, -13, 38, 120, 121, 221, 247, 249, 284, 301, 377, 407, 409, 428, 472, 491, 601, 608, 630, 649, 652, 669, 670, 677, 681, 682, 718, 766, 772, 773, 785, 787, 792, 828, 845, 854, 889, 988, 989]\n"
     ]
    }
   ],
   "source": [
    "print(sorted(d))"
   ]
  }
 ],
 "metadata": {
  "kernelspec": {
   "display_name": "Python 3",
   "language": "python",
   "name": "python3"
  },
  "language_info": {
   "codemirror_mode": {
    "name": "ipython",
    "version": 3
   },
   "file_extension": ".py",
   "mimetype": "text/x-python",
   "name": "python",
   "nbconvert_exporter": "python",
   "pygments_lexer": "ipython3",
   "version": "3.8.5"
  }
 },
 "nbformat": 4,
 "nbformat_minor": 4
}
