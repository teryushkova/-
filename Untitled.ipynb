{
 "cells": [
  {
   "cell_type": "markdown",
   "metadata": {},
   "source": [
    "# Лабораторная работа №2\n",
    "## Выполнила студентка группы БСТ1903 Терюшкова К.С.\n",
    "# Задание 1"
   ]
  },
  {
   "cell_type": "code",
   "execution_count": 24,
   "metadata": {},
   "outputs": [],
   "source": [
    "from collections import defaultdict\n",
    "from string import ascii_letters\n",
    "\n",
    "\n",
    "class KnuthMorrisPratt():\n",
    "\n",
    "    def __init__(self, reference):\n",
    "        # reference = reference.translate(reference.maketrans('', '', ascii_letters))\n",
    "        self.reference = reference\n",
    "        self.n_operations = 0\n",
    "\n",
    "\n",
    "    def name(self):\n",
    "        return 'Knuth-Morris-Pratt'\n",
    "\n",
    "    def set_candidate(self, candidate, **params):\n",
    "        self.candidate = candidate\n",
    "\n",
    "    def search(self, multiple_search=False) -> list:\n",
    "        \"\"\"Return the lowest index of T at which substring P begins (or else -1).\"\"\"\n",
    "        len_ref = len(self.reference)\n",
    "        len_can = len(self.candidate)\n",
    "\n",
    "        if len_can > len_ref:\n",
    "            print(\"Error: len candidate > len references {} > {}.\".format(len_can, len_ref))\n",
    "            return -1\n",
    "        # create lps[] that will hold the longest prefix suffix\n",
    "        # values for pattern\n",
    "        self.lps = [0] * len_can\n",
    "        j = 0  # index for pat[]\n",
    "\n",
    "        # Preprocess the pattern\n",
    "        self.computeLPSArray()\n",
    "        offset_lst = []\n",
    "\n",
    "        i = 0  # index for txt[]\n",
    "        while i < len_ref:\n",
    "\n",
    "            self.n_operations += 1\n",
    "            if self.candidate[j] == self.reference[i]:\n",
    "                i += 1\n",
    "                j += 1\n",
    "\n",
    "\n",
    "            if j == len_can:\n",
    "                self.n_operations += 1\n",
    "                offset_lst.append(i - j)\n",
    "                j = self.lps[j - 1]\n",
    "                if (not multiple_search):\n",
    "                    return offset_lst\n",
    "            # mismatch after j matches\n",
    "            elif i < len_ref and self.candidate[j] != self.reference[i]:\n",
    "                self.n_operations += 1\n",
    "                if j != 0:\n",
    "                    j = self.lps[j - 1]\n",
    "                else:\n",
    "                    i += 1\n",
    "        return offset_lst\n",
    "\n",
    "    def computeLPSArray(self):\n",
    "        len_can = len(self.candidate)\n",
    "\n",
    "        length = 0\n",
    "\n",
    "        self.lps[0] = 0\n",
    "        i = 1\n",
    "\n",
    "        while i < len_can:\n",
    "            self.n_operations += 1\n",
    "            if self.candidate[i] == self.candidate[length]:\n",
    "                length += 1\n",
    "                self.lps[i] = length\n",
    "                i += 1\n",
    "            else:\n",
    "                if length != 0:\n",
    "                    length = self.lps[length - 1]\n",
    "                else:\n",
    "                    self.lps[i] = 0\n",
    "                    i += 1"
   ]
  },
  {
   "cell_type": "markdown",
   "metadata": {},
   "source": [
    "# Алгоритм Бойера-Мура"
   ]
  },
  {
   "cell_type": "code",
   "execution_count": 4,
   "metadata": {},
   "outputs": [],
   "source": [
    "def printLine(s, pad, offset, length):\n",
    "    t = [pad for _ in range(length+1)]\n",
    "    t[offset:offset+len(s)+1] = s\n",
    "    return t\n",
    "\n",
    "\n",
    "def gsSkip(p, gs):\n",
    "    len_p = len(p)\n",
    "    len_gs = len(gs)\n",
    "    offset = len_p - len_gs - 1\n",
    "    skip = 0\n",
    "    for i in range(offset, -1, -1): # alignments\n",
    "        s = p[max(0, i-len_gs+1):i+1]\n",
    "        len_s = len(s)\n",
    "        for j in range(len_s-1, -1, -1): # bases\n",
    "            if (s[j] != gs[j+len_gs-len_s]):\n",
    "                break\n",
    "            else:\n",
    "                if (j==0):\n",
    "                    skip = offset + len_gs - i - 1\n",
    "                    #print(\"i: %d, j: %d, offset: %d, gs: %d\" % (i, j, offset, len_gs))\n",
    "        if skip > 0:\n",
    "            break\n",
    "    #print(\"break: %d\" % skip)\n",
    "    return skip\n",
    "\n",
    "\n",
    "def bcSkip(p, offset, bc):\n",
    "    for j in range(offset-1, -1, -1):\n",
    "        #print(p, offset, bc, j)\n",
    "        if (p[j] == bc):\n",
    "            return offset-j-1\n",
    "    return offset\n",
    "\n",
    "\n",
    "def bmSteps(p, t):\n",
    "    print(\"%s|\" % ' '.join([t[i] for i in range(len(t))]))\n",
    "    algn = 0\n",
    "    while algn < len(t)-len(p)+1:\n",
    "        s = printLine(p, ' ', algn, len(t))\n",
    "        for offset in range(len(p)-1, -1, -1):\n",
    "            gs_skip = 0\n",
    "            bc_skip = 0\n",
    "            gs = ''\n",
    "            bc = ''\n",
    "            #print(algn, offset, t[offset+algn], s[offset+algn])\n",
    "            if t[offset+algn] != s[offset+algn]:\n",
    "                bc = t[offset+algn]\n",
    "                bc_skip = bcSkip(p, offset, bc)\n",
    "                gs = p[offset+1:]\n",
    "                if (len(gs)>0):\n",
    "                    gs_skip = gsSkip(p, gs)\n",
    "                algn += max(bc_skip, gs_skip)\n",
    "                print(\"%s| \\x1b[31mbc: %s, %d\\x1b[0m, \\x1b[32mgs: %s, %d\\x1b[0m\" % (' '.join([s[i] for i in range(len(s))]), \n",
    "                                         bc, \n",
    "                                         bc_skip,\n",
    "                                         ''.join([gs[i] for i in range(len(gs))]),\n",
    "                                         gs_skip\n",
    "                                        ))\n",
    "                break\n",
    "            else:\n",
    "                if (bc == '') and (offset == 0):\n",
    "                    print(\"\\x1b[32m%s| MATCH\\x1b[0m\" % ' '.join([s[i] for i in range(len(s))]))\n",
    "                    break\n",
    "        algn += 1"
   ]
  },
  {
   "cell_type": "code",
   "execution_count": 5,
   "metadata": {},
   "outputs": [
    {
     "name": "stdout",
     "output_type": "stream",
     "text": [
      "G T T A T A G C T G A T C G C G G C G T A G C G G C G A A|\n",
      "G T A G C G G C G                                        | \u001b[31mbc: T, 6\u001b[0m, \u001b[32mgs: , 0\u001b[0m\n",
      "              G T A G C G G C G                          | \u001b[31mbc: C, 0\u001b[0m, \u001b[32mgs: GCG, 2\u001b[0m\n",
      "                    G T A G C G G C G                    | \u001b[31mbc: C, 2\u001b[0m, \u001b[32mgs: GCGGCG, 7\u001b[0m\n",
      "\u001b[32m                                    G T A G C G G C G    | MATCH\u001b[0m\n",
      "                                      G T A G C G G C G  | \u001b[31mbc: A, 5\u001b[0m, \u001b[32mgs: , 0\u001b[0m\n"
     ]
    }
   ],
   "source": [
    "p = 'GTAGCGGCG'\n",
    "t = 'GTTATAGCTGATCGCGGCGTAGCGGCGAA'\n",
    "bmSteps(p, t)"
   ]
  },
  {
   "cell_type": "code",
   "execution_count": 6,
   "metadata": {},
   "outputs": [
    {
     "name": "stdout",
     "output_type": "stream",
     "text": [
      "A A A A C G G C C T A T T C G G C T A T T T C G G C|\n",
      "T T C G G C                                        | \u001b[31mbc: G, 0\u001b[0m, \u001b[32mgs: , 0\u001b[0m\n",
      "  T T C G G C                                      | \u001b[31mbc: G, 0\u001b[0m, \u001b[32mgs: , 0\u001b[0m\n",
      "    T T C G G C                                    | \u001b[31mbc: A, 1\u001b[0m, \u001b[32mgs: CGGC, 0\u001b[0m\n",
      "        T T C G G C                                | \u001b[31mbc: T, 3\u001b[0m, \u001b[32mgs: , 0\u001b[0m\n",
      "                T T C G G C                        | \u001b[31mbc: T, 2\u001b[0m, \u001b[32mgs: C, 2\u001b[0m\n",
      "\u001b[32m                      T T C G G C                  | MATCH\u001b[0m\n",
      "                        T T C G G C                | \u001b[31mbc: T, 3\u001b[0m, \u001b[32mgs: , 0\u001b[0m\n",
      "                                T T C G G C        | \u001b[31mbc: T, 3\u001b[0m, \u001b[32mgs: , 0\u001b[0m\n",
      "\u001b[32m                                        T T C G G C| MATCH\u001b[0m\n"
     ]
    }
   ],
   "source": [
    "\n",
    "t = 'AAAACGGCCTATTCGGCTATTTCGGC'\n",
    "p = 'TTCGGC'\n",
    "bmSteps(p, t)"
   ]
  },
  {
   "cell_type": "code",
   "execution_count": null,
   "metadata": {},
   "outputs": [],
   "source": []
  },
  {
   "cell_type": "code",
   "execution_count": 9,
   "metadata": {},
   "outputs": [],
   "source": [
    "def BM(texte, motif):\n",
    "    n = len(texte)\n",
    "    p = len(motif)\n",
    "    if p > n: return -1\n",
    "    decalages = calculeDecalages(motif)\n",
    "    debut = 0\n",
    "    while debut <= n-p:\n",
    "        j = p-1\n",
    "        while j >= 0:\n",
    "            if texte[debut+j] != motif[j]: break\n",
    "            j -= 1\n",
    "        if j < 0: return debut\n",
    "        k = j - decale(texte[debut+j],decalages)\n",
    "        if k < 1: k = 1\n",
    "        debut += k\n",
    "    return -1"
   ]
  },
  {
   "cell_type": "code",
   "execution_count": 10,
   "metadata": {},
   "outputs": [
    {
     "data": {
      "text/plain": [
       "11"
      ]
     },
     "execution_count": 10,
     "metadata": {},
     "output_type": "execute_result"
    }
   ],
   "source": [
    "\n",
    "BM('aabbbababacaabbabaabababaab','aabba')"
   ]
  },
  {
   "cell_type": "code",
   "execution_count": 8,
   "metadata": {},
   "outputs": [
    {
     "data": {
      "text/plain": [
       "(5, 6, -1)"
      ]
     },
     "execution_count": 8,
     "metadata": {},
     "output_type": "execute_result"
    }
   ],
   "source": [
    "def calculeDecalages(motif):\n",
    "    d = {}\n",
    "    p = len(motif)\n",
    "    for c in motif: d[c] = -1\n",
    "    for i in range(p):\n",
    "        d[motif[i]] = i\n",
    "    return d\n",
    "\n",
    "\n",
    "def decale(c,decalages):\n",
    "    try:\n",
    "        return decalages[c]\n",
    "    except KeyError:\n",
    "        return -1\n",
    "\n",
    "    \n",
    "d = calculeDecalages('aababab')\n",
    "decale('a',d),decale('b',d),decale('w',d)\n"
   ]
  },
  {
   "cell_type": "markdown",
   "metadata": {},
   "source": [
    "# Алгоритм Кнута-Морриса-Пратта"
   ]
  },
  {
   "cell_type": "code",
   "execution_count": 25,
   "metadata": {},
   "outputs": [],
   "source": [
    "import numpy as np\n",
    "class KMP:\n",
    "     def __init__(self,w,s):\n",
    "         self.w = list(w)\n",
    "         self.s = list(s)\n",
    "     ## Построение таблицы\n",
    "     def kmp_table(self):\n",
    "        pos=1 ## pos это переменная, которая будет один раз проходитьчерез символы слова\n",
    "        c=0 ## c это переменная, которая будет определять значение T[j] путем сравнения префикса и суффикса внутри слова\n",
    "          \n",
    "       \n",
    "        T=np.zeros(len(self.w)) ##T[0]=0 всегда\n",
    "        \n",
    "        while pos<len(self.w):\n",
    "         if self.w[c]==self.w[pos]: ##если находится совпадение, тогда находится суффикс, который также является суффиксом длинны\n",
    "                                     ## c+1 (c начинается с нуля)\n",
    "          c+=1\n",
    "          T[pos]=c\n",
    "            \n",
    "         elif c!=0 and self.w[0]==self.w[pos] :\n",
    "          \n",
    "          c=1       ## если возникает несоответствие между суффиксом и префиксом, то \n",
    "          T[pos]=c  ## новый суффикс будет искаться, начиная с несовпадающей позиции\n",
    "         else:\n",
    "                \n",
    "          c=0    ## устанавлоиваем c=0 указывающую на новый поиск, начинающийся соследующей позиции, сразу после несоответствия\n",
    "        \n",
    "         pos+=1\n",
    "        \n",
    "        return T\n",
    "    \n",
    "    \n",
    "     def kmp_search(self,T):\n",
    "         j=0\n",
    "         pos=[]\n",
    "            \n",
    "         for i in np.arange(0,len(self.s)):\n",
    "            \n",
    "        ## если вы обнаружили несоответствие полсле одного или нескольких совпадений,\n",
    "        ## но обратитесь к таблице, которая дает подходящий префикс для суффикса, которого вы достигли \n",
    "        ## до того как возникло несоответствие\n",
    "           while j>0 and self.s[i] != self.w[j]: \n",
    "              \n",
    "            j=int(T[j-1]) ## если несоответствие сохраняется, таблица в конце будет указывать\n",
    "                          ## начать сначала  w.\n",
    "           \n",
    "           if self.w[j]==self.s[i]: ##совпадение происходит, подолжайте проходить через w увеличивая j\n",
    "            j+=1\n",
    "           \n",
    "           if j==len(self.w): ### если j имеет размер слова, то один w находится в s\n",
    "            pos.append(i-len(self.w)+1)\n",
    "            j=int(T[j-1]) ## при этом важно заметить, что иногда префикс w содержится в другом w\n",
    "                           ## например, w='aba' и s='ababa'\n",
    "         if len(pos)!=0:\n",
    "            print('Совпадение найдено, индекс первого символа', pos)\n",
    "         else:\n",
    "            print('Совпадений не найдено')"
   ]
  },
  {
   "cell_type": "code",
   "execution_count": 26,
   "metadata": {},
   "outputs": [
    {
     "name": "stdout",
     "output_type": "stream",
     "text": [
      "Совпадение найдено, индекс первого символа [12]\n"
     ]
    }
   ],
   "source": [
    "k=KMP('солнце','тучатучатучасолнцетучатуча')\n",
    "t=k.kmp_table()\n",
    "k.kmp_search(t)"
   ]
  },
  {
   "cell_type": "code",
   "execution_count": 27,
   "metadata": {},
   "outputs": [
    {
     "name": "stdout",
     "output_type": "stream",
     "text": [
      "Совпадение найдено, индекс первого символа [2, 10, 29, 38]\n"
     ]
    }
   ],
   "source": [
    "w='чет'11111111111111111111111111111111111111111111111111111111111111111111111111111111111111111111111111111111111111111111111С \n",
    "s='В четверг четвертого числа в четыре с четвертью часа'\n",
    "k=KMP(w,s)\n",
    "t=k.kmp_table()\n",
    "k.kmp_search(t)"
   ]
  },
  {
   "cell_type": "code",
   "execution_count": 15,
   "metadata": {},
   "outputs": [
    {
     "name": "stdout",
     "output_type": "stream",
     "text": [
      "matches found at [0, 2]\n"
     ]
    }
   ],
   "source": [
    "w='aba'\n",
    "s='ababa'\n",
    "k=KMP(w,s)\n",
    "t=k.kmp_table()\n",
    "k.kmp_search(t)"
   ]
  },
  {
   "cell_type": "code",
   "execution_count": null,
   "metadata": {},
   "outputs": [],
   "source": [
    "333333"
   ]
  },
  {
   "cell_type": "markdown",
   "metadata": {},
   "source": [
    "#    def KMPSearch(pat, txt): \n",
    "        M = len(pat) \n",
    "        N = len(txt) \n",
    "\n",
    "        # create lps[] that will hold the longest prefix suffix \n",
    "        # values for pattern \n",
    "        lps = [0]*M \n",
    "        j = 0 # index for pat[] \n",
    "\n",
    "        # Preprocess the pattern (calculate lps[] array) \n",
    "        computeLPSArray(pat, M, lps) \n",
    "\n",
    "        i = 0 # index for txt[] \n",
    "        while (i < N): \n",
    "            if (pat[j] == txt[i]): \n",
    "                i += 1\n",
    "                j += 1\n",
    "\n",
    "            if j == M: \n",
    "                print (\"has found at index \" + str(i-j)) \n",
    "                j = lps[j-1] \n",
    "\n",
    "            # mismatch after j matches \n",
    "            elif (i < N and pat[j] != txt[i]): \n",
    "                # Do not match lps[0..lps[j-1]] characters, \n",
    "                # they will match anyway \n",
    "                if (j != 0): \n",
    "                    j = lps[j-1] \n",
    "                else: \n",
    "                    i += 1\n",
    "\n",
    "    def computeLPSArray(pat, M, lps): \n",
    "        len = 0 # length of the previous longest prefix suffix \n",
    "\n",
    "        lps[0] # lps[0] is always 0 \n",
    "        i = 1\n",
    "\n",
    "        # the loop calculates lps[i] for i = 1 to M-1 \n",
    "        while (i < M): \n",
    "            if pat[i]== pat[len]: \n",
    "                len += 1\n",
    "                lps[i] = len\n",
    "                i += 1\n",
    "            else: \n",
    "                # This is tricky. Consider the example. \n",
    "                # AAACAAAA and i = 7. The idea is similar \n",
    "                # to search step. \n",
    "                if len != 0: \n",
    "                    len = lps[len-1] \n",
    "\n",
    "                    # Also, note that we do not increment i here \n",
    "                else: \n",
    "                    lps[i] = 0\n",
    "                    i += 1"
   ]
  },
  {
   "cell_type": "code",
   "execution_count": 23,
   "metadata": {},
   "outputs": [
    {
     "name": "stdout",
     "output_type": "stream",
     "text": [
      "The patern ABABCABAB in the text ABABDABACDABABCABAB has found at index 10\n",
      "The patern ABAB in the text ABABDABACDABABCABAB has found at index 0\n",
      "has found at index 10\n",
      "has found at index 15\n"
     ]
    }
   ],
   "source": [
    "txt = \"ABABDABACDABABCABAB\"\n",
    "pat = [\"ABABCABAB\",\"ABAB\"]\n",
    "\n",
    "for i in range(2):\n",
    "    print(\"The patern \" + pat[i] +\" in the text \" + txt ,end=\" \" )\n",
    "    KMPSearch(pat[i], txt)"
   ]
  },
  {
   "cell_type": "markdown",
   "metadata": {},
   "source": [
    "# "
   ]
  }
 ],
 "metadata": {
  "kernelspec": {
   "display_name": "Python 3",
   "language": "python",
   "name": "python3"
  },
  "language_info": {
   "codemirror_mode": {
    "name": "ipython",
    "version": 3
   },
   "file_extension": ".py",
   "mimetype": "text/x-python",
   "name": "python",
   "nbconvert_exporter": "python",
   "pygments_lexer": "ipython3",
   "version": "3.8.5"
  }
 },
 "nbformat": 4,
 "nbformat_minor": 4
}
